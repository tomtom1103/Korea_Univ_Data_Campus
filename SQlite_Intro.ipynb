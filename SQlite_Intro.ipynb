{
 "cells": [
  {
   "cell_type": "code",
   "execution_count": 2,
   "id": "c9ce1c93",
   "metadata": {},
   "outputs": [],
   "source": [
    "import sqlite3"
   ]
  },
  {
   "cell_type": "code",
   "execution_count": 3,
   "id": "77eca9b8",
   "metadata": {},
   "outputs": [
    {
     "data": {
      "text/plain": [
       "'2.6.0'"
      ]
     },
     "execution_count": 3,
     "metadata": {},
     "output_type": "execute_result"
    }
   ],
   "source": [
    "sqlite3.version"
   ]
  },
  {
   "cell_type": "code",
   "execution_count": 9,
   "id": "abbfac3b",
   "metadata": {},
   "outputs": [],
   "source": [
    "conn = sqlite3.connect('Jupyter')"
   ]
  },
  {
   "cell_type": "code",
   "execution_count": 10,
   "id": "714bb6d7",
   "metadata": {},
   "outputs": [],
   "source": [
    "cur = conn.cursor()"
   ]
  },
  {
   "cell_type": "code",
   "execution_count": 12,
   "id": "9e78f490",
   "metadata": {},
   "outputs": [
    {
     "data": {
      "text/plain": [
       "sqlite3.Cursor"
      ]
     },
     "execution_count": 12,
     "metadata": {},
     "output_type": "execute_result"
    }
   ],
   "source": [
    "type(cur)"
   ]
  },
  {
   "cell_type": "code",
   "execution_count": 14,
   "id": "60c9bfb1",
   "metadata": {},
   "outputs": [
    {
     "data": {
      "text/plain": [
       "['__class__',\n",
       " '__delattr__',\n",
       " '__dir__',\n",
       " '__doc__',\n",
       " '__eq__',\n",
       " '__format__',\n",
       " '__ge__',\n",
       " '__getattribute__',\n",
       " '__gt__',\n",
       " '__hash__',\n",
       " '__init__',\n",
       " '__init_subclass__',\n",
       " '__iter__',\n",
       " '__le__',\n",
       " '__lt__',\n",
       " '__ne__',\n",
       " '__new__',\n",
       " '__next__',\n",
       " '__reduce__',\n",
       " '__reduce_ex__',\n",
       " '__repr__',\n",
       " '__setattr__',\n",
       " '__sizeof__',\n",
       " '__str__',\n",
       " '__subclasshook__',\n",
       " 'arraysize',\n",
       " 'close',\n",
       " 'connection',\n",
       " 'description',\n",
       " 'execute',\n",
       " 'executemany',\n",
       " 'executescript',\n",
       " 'fetchall',\n",
       " 'fetchmany',\n",
       " 'fetchone',\n",
       " 'lastrowid',\n",
       " 'row_factory',\n",
       " 'rowcount',\n",
       " 'setinputsizes',\n",
       " 'setoutputsize']"
      ]
     },
     "execution_count": 14,
     "metadata": {},
     "output_type": "execute_result"
    }
   ],
   "source": [
    "dir(cur)"
   ]
  },
  {
   "cell_type": "markdown",
   "id": "899bdd79",
   "metadata": {},
   "source": [
    "execute 와 patch 가 중요하다."
   ]
  },
  {
   "cell_type": "markdown",
   "id": "dc47419f",
   "metadata": {},
   "source": [
    "sqlite 는 null, integer, real, text, blob 데이터타입을 기본적으로 지원해준다."
   ]
  },
  {
   "cell_type": "code",
   "execution_count": 20,
   "id": "6e168c50",
   "metadata": {},
   "outputs": [
    {
     "data": {
      "text/plain": [
       "<sqlite3.Cursor at 0x7fa70653d570>"
      ]
     },
     "execution_count": 20,
     "metadata": {},
     "output_type": "execute_result"
    }
   ],
   "source": [
    "cur.execute('CREATE TABLE people (name_last,age)')"
   ]
  },
  {
   "cell_type": "code",
   "execution_count": 22,
   "id": "935c499f",
   "metadata": {},
   "outputs": [],
   "source": [
    "who = 'Yeltsin'\n",
    "age = 72"
   ]
  },
  {
   "cell_type": "code",
   "execution_count": 23,
   "id": "f5c28c47",
   "metadata": {},
   "outputs": [
    {
     "data": {
      "text/plain": [
       "<sqlite3.Cursor at 0x7fa70653d570>"
      ]
     },
     "execution_count": 23,
     "metadata": {},
     "output_type": "execute_result"
    }
   ],
   "source": [
    "cur.execute('insert into people values(?,?)',(who,age))"
   ]
  },
  {
   "cell_type": "code",
   "execution_count": 25,
   "id": "24167df4",
   "metadata": {},
   "outputs": [
    {
     "data": {
      "text/plain": [
       "<sqlite3.Cursor at 0x7fa70653d570>"
      ]
     },
     "execution_count": 25,
     "metadata": {},
     "output_type": "execute_result"
    }
   ],
   "source": [
    "cur.execute('select * from people where name_last=:who and age=:age', {'who':who, 'age':age})"
   ]
  },
  {
   "cell_type": "code",
   "execution_count": 26,
   "id": "c6cbefd5",
   "metadata": {},
   "outputs": [
    {
     "data": {
      "text/plain": [
       "('Yeltsin', 72)"
      ]
     },
     "execution_count": 26,
     "metadata": {},
     "output_type": "execute_result"
    }
   ],
   "source": [
    "cur.fetchone()"
   ]
  },
  {
   "cell_type": "markdown",
   "id": "9ca1b183",
   "metadata": {},
   "source": [
    "-------"
   ]
  },
  {
   "cell_type": "code",
   "execution_count": 30,
   "id": "cd60f663",
   "metadata": {},
   "outputs": [
    {
     "data": {
      "text/plain": [
       "<sqlite3.Cursor at 0x7fa70653d570>"
      ]
     },
     "execution_count": 30,
     "metadata": {},
     "output_type": "execute_result"
    }
   ],
   "source": [
    "sql = 'insert into people values (?, ?)'\n",
    "curData = [('A',1),('B',2),('C',3)]\n",
    "cur.executemany(sql,curData)"
   ]
  },
  {
   "cell_type": "markdown",
   "id": "c0f40ee9",
   "metadata": {},
   "source": [
    "--------"
   ]
  },
  {
   "cell_type": "markdown",
   "id": "cb2c9700",
   "metadata": {},
   "source": [
    "---------"
   ]
  },
  {
   "cell_type": "code",
   "execution_count": 63,
   "id": "1b0639c0",
   "metadata": {},
   "outputs": [
    {
     "name": "stdout",
     "output_type": "stream",
     "text": [
      "the last id of the inserted row is 3\n"
     ]
    }
   ],
   "source": [
    "con = sqlite3.connect(':memory:')\n",
    "with con:\n",
    "    cur = con.cursor()\n",
    "    cur.execute('CREATE TABLE Friends (Id INTEGER PRIMARY KEY, Name TEXT);')\n",
    "    cur.execute(\"INSERT INTO Friends(Name) VALUES ('Tom');\")\n",
    "    cur.execute(\"INSERT INTO Friends(Name) VALUES ('Rebecca');\")\n",
    "    cur.execute(\"INSERT INTO Friends(Name) VALUES ('Jim');\")\n",
    "    \n",
    "    lid = cur.lastrowid\n",
    "    print(\"the last id of the inserted row is\",lid)"
   ]
  },
  {
   "cell_type": "markdown",
   "id": "1b91f020",
   "metadata": {},
   "source": [
    "---------"
   ]
  },
  {
   "cell_type": "markdown",
   "id": "828ca0e3",
   "metadata": {},
   "source": [
    "-----------"
   ]
  },
  {
   "cell_type": "markdown",
   "id": "eea8b04d",
   "metadata": {},
   "source": [
    "------"
   ]
  },
  {
   "cell_type": "code",
   "execution_count": 157,
   "id": "011acd18",
   "metadata": {},
   "outputs": [],
   "source": [
    "conn1 = sqlite3.connect('playlist1.db')\n",
    "cur = conn1.cursor()\n",
    "\n",
    "cur.executescript(\"\"\"\n",
    "    DROP TABLE IF EXISTS artist;\n",
    "    CREATE TABLE artist(\n",
    "        id INTEGER NOT NULL PRIMARY KEY AUTOINCREMENT UNIQUE,\n",
    "        name TEXT);\n",
    "    DROP TABLE IF EXISTS genre;\n",
    "    CREATE TABLE genre(\n",
    "        id INTEGER NOT NULL PRIMARY KEY AUTOINCREMENT UNIQUE,\n",
    "        name TEXT,\n",
    "        fk INTEGER NOT NULL);\n",
    "    DROP TABLE IF EXISTS album;\n",
    "    CREATE TABLE album (\n",
    "        id INTEGER NOT NULL PRIMARY KEY AUTOINCREMENT UNIQUE,\n",
    "        name TEXT,\n",
    "        fk INTEGER NOT NULL);\n",
    "    DROP TABLE IF EXISTS track;\n",
    "    CREATE TABLE track (\n",
    "        id INTEGER PRIMARY KEY AUTOINCREMENT UNIQUE,\n",
    "        name TEXT NOT NULL,\n",
    "        rating INTEGER,\n",
    "        length INTEGER,\n",
    "        afk INTEGER NOT NULL,\n",
    "        gfk INTEGER NOT NULL)\n",
    "        \"\"\")\n",
    "\n",
    "conn1.commit()"
   ]
  },
  {
   "cell_type": "code",
   "execution_count": 158,
   "id": "35196cb9",
   "metadata": {},
   "outputs": [
    {
     "data": {
      "text/plain": [
       "<sqlite3.Cursor at 0x7fa7065d7960>"
      ]
     },
     "execution_count": 158,
     "metadata": {},
     "output_type": "execute_result"
    }
   ],
   "source": [
    "cur.execute(\"INSERT INTO artist (name) VALUES (?)\", [(\"TOMCAAT\")])"
   ]
  },
  {
   "cell_type": "code",
   "execution_count": 159,
   "id": "1a6895f4",
   "metadata": {},
   "outputs": [],
   "source": [
    "conn1.commit()"
   ]
  },
  {
   "cell_type": "code",
   "execution_count": 160,
   "id": "4a151714",
   "metadata": {},
   "outputs": [
    {
     "data": {
      "text/plain": [
       "<sqlite3.Cursor at 0x7fa7065d7960>"
      ]
     },
     "execution_count": 160,
     "metadata": {},
     "output_type": "execute_result"
    }
   ],
   "source": [
    "cur.execute('INSERT INTO album (name,fk) VALUES (?,\\\n",
    "            (SELECT id FROM artist WHERE name=\"TOMCAAT\"))',\n",
    "            ['시간여행의순기능'])"
   ]
  },
  {
   "cell_type": "code",
   "execution_count": 161,
   "id": "ceea5d82",
   "metadata": {},
   "outputs": [],
   "source": [
    "conn1.commit()"
   ]
  },
  {
   "cell_type": "code",
   "execution_count": 162,
   "id": "bf920f41",
   "metadata": {},
   "outputs": [
    {
     "data": {
      "text/plain": [
       "[(1, '시간여행의순기능', 1)]"
      ]
     },
     "execution_count": 162,
     "metadata": {},
     "output_type": "execute_result"
    }
   ],
   "source": [
    "cur.execute('SELECT * FROM album')\n",
    "cur.fetchall()"
   ]
  },
  {
   "cell_type": "code",
   "execution_count": 163,
   "id": "56324f8a",
   "metadata": {},
   "outputs": [
    {
     "data": {
      "text/plain": [
       "<sqlite3.Cursor at 0x7fa7065d7960>"
      ]
     },
     "execution_count": 163,
     "metadata": {},
     "output_type": "execute_result"
    }
   ],
   "source": [
    "cur.execute('ALTER TABLE genre DROP fk')"
   ]
  },
  {
   "cell_type": "code",
   "execution_count": 164,
   "id": "b32d920c",
   "metadata": {},
   "outputs": [],
   "source": [
    "conn1.commit()"
   ]
  },
  {
   "cell_type": "code",
   "execution_count": 165,
   "id": "7aae3aa8",
   "metadata": {},
   "outputs": [
    {
     "data": {
      "text/plain": [
       "<sqlite3.Cursor at 0x7fa7065d7960>"
      ]
     },
     "execution_count": 165,
     "metadata": {},
     "output_type": "execute_result"
    }
   ],
   "source": [
    "genre = [{'name':'rnb'},{'name':'rock'}]\n",
    "cur.executemany('INSERT INTO genre (name) VALUES(:name)', genre)"
   ]
  },
  {
   "cell_type": "code",
   "execution_count": 166,
   "id": "eee9934d",
   "metadata": {},
   "outputs": [],
   "source": [
    "conn1.commit()"
   ]
  },
  {
   "cell_type": "code",
   "execution_count": 167,
   "id": "c7f8f4d9",
   "metadata": {},
   "outputs": [
    {
     "data": {
      "text/plain": [
       "[(1, 'rnb'), (2, 'rock')]"
      ]
     },
     "execution_count": 167,
     "metadata": {},
     "output_type": "execute_result"
    }
   ],
   "source": [
    "cur.execute('SELECT * FROM genre')\n",
    "cur.fetchall()"
   ]
  },
  {
   "cell_type": "code",
   "execution_count": 168,
   "id": "2eb09f78",
   "metadata": {},
   "outputs": [],
   "source": [
    "track = [{'name':'순기능', 'fk1':'시간여행의순기능', 'fk2':'rnb'},\n",
    "        {'name':'시간을달리는소년', 'fk1':'시간여행의순기능', 'fk2':'rock'}]"
   ]
  },
  {
   "cell_type": "code",
   "execution_count": 169,
   "id": "4e0ed3d3",
   "metadata": {},
   "outputs": [],
   "source": [
    "conn1.commit()"
   ]
  },
  {
   "cell_type": "markdown",
   "id": "cd605540",
   "metadata": {},
   "source": [
    "---------"
   ]
  },
  {
   "cell_type": "code",
   "execution_count": 171,
   "id": "81830aeb",
   "metadata": {},
   "outputs": [
    {
     "data": {
      "text/plain": [
       "[('TOMCAAT', '시간여행의순기능')]"
      ]
     },
     "execution_count": 171,
     "metadata": {},
     "output_type": "execute_result"
    }
   ],
   "source": [
    "cur.execute('''SELECT A.name, B.name FROM artist AS A\n",
    "                INNER JOIN album AS B ON A.id=B.fk''')\n",
    "cur.fetchall()"
   ]
  },
  {
   "cell_type": "markdown",
   "id": "e0c1d345",
   "metadata": {},
   "source": [
    "---------"
   ]
  }
 ],
 "metadata": {
  "kernelspec": {
   "display_name": "Python 3",
   "language": "python",
   "name": "python3"
  },
  "language_info": {
   "codemirror_mode": {
    "name": "ipython",
    "version": 3
   },
   "file_extension": ".py",
   "mimetype": "text/x-python",
   "name": "python",
   "nbconvert_exporter": "python",
   "pygments_lexer": "ipython3",
   "version": "3.8.8"
  }
 },
 "nbformat": 4,
 "nbformat_minor": 5
}
