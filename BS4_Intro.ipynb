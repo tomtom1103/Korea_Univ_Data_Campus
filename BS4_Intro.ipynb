{
 "cells": [
  {
   "cell_type": "code",
   "execution_count": 1,
   "id": "d5fd0b7c",
   "metadata": {},
   "outputs": [],
   "source": [
    "from bs4 import BeautifulSoup"
   ]
  },
  {
   "cell_type": "code",
   "execution_count": 2,
   "id": "aaa1b118",
   "metadata": {},
   "outputs": [],
   "source": [
    "import re"
   ]
  },
  {
   "cell_type": "code",
   "execution_count": 3,
   "id": "694a4c82",
   "metadata": {},
   "outputs": [],
   "source": [
    "html = '''\n",
    "\n",
    "<html>\n",
    " <head></head>\n",
    " <body>\n",
    "  <ul>\n",
    "   <LI><a href=link1.html>내용1</p></li>\n",
    "   <li><a href=link2.html>내용2</p></Li>\n",
    "   <li><a href=link3.html>내용3</p>\n",
    "   <li><a href=link4.html>내용4</p></LI>\n",
    "   </li>\n",
    "  </ul>\n",
    " </body>\n",
    "</html>\n",
    "\n",
    "'''"
   ]
  },
  {
   "cell_type": "code",
   "execution_count": 4,
   "id": "0718cfca",
   "metadata": {},
   "outputs": [
    {
     "data": {
      "text/plain": [
       "\n",
       "<html>\n",
       "<head></head>\n",
       "<body>\n",
       "<ul>\n",
       "<li><a href=\"link1.html\">내용1</a></li></ul></body></html>\n",
       "<li><a href=\"link2.html\">내용2</a></li>\n",
       "<li><a href=\"link3.html\">내용3</a></li>\n",
       "<li><a href=\"link4.html\">내용4</a></li>\n",
       "\n",
       "\n",
       "\n"
      ]
     },
     "execution_count": 4,
     "metadata": {},
     "output_type": "execute_result"
    }
   ],
   "source": [
    "BeautifulSoup(html, 'html.parser')"
   ]
  },
  {
   "cell_type": "code",
   "execution_count": 5,
   "id": "56c6ec82",
   "metadata": {},
   "outputs": [
    {
     "data": {
      "text/plain": [
       "<html>\n",
       "<head></head>\n",
       "<body>\n",
       "<ul>\n",
       "<li><a href=\"link1.html\">내용1</a></li>\n",
       "<li><a href=\"link2.html\">내용2</a></li>\n",
       "<li><a href=\"link3.html\">내용3\n",
       "   <li><a href=\"link4.html\">내용4</a></li>\n",
       "</a></li>\n",
       "</ul>\n",
       "</body>\n",
       "</html>"
      ]
     },
     "execution_count": 5,
     "metadata": {},
     "output_type": "execute_result"
    }
   ],
   "source": [
    "BeautifulSoup(html, 'lxml')"
   ]
  },
  {
   "cell_type": "code",
   "execution_count": 6,
   "id": "fec5cfe4",
   "metadata": {},
   "outputs": [
    {
     "data": {
      "text/plain": [
       "<html><head></head>\n",
       " <body>\n",
       "  <ul>\n",
       "   <li><a href=\"link1.html\">내용1<p></p></a></li><a href=\"link1.html\">\n",
       "   </a><li><a href=\"link1.html\"></a><a href=\"link2.html\">내용2<p></p></a></li><a href=\"link2.html\">\n",
       "   </a><li><a href=\"link2.html\"></a><a href=\"link3.html\">내용3<p></p>\n",
       "   </a></li><li><a href=\"link4.html\">내용4<p></p></a></li><a href=\"link4.html\">\n",
       "   \n",
       "  </a></ul><a href=\"link4.html\">\n",
       " \n",
       "\n",
       "\n",
       "</a></body></html>"
      ]
     },
     "execution_count": 6,
     "metadata": {},
     "output_type": "execute_result"
    }
   ],
   "source": [
    "BeautifulSoup(html, 'html5lib')"
   ]
  },
  {
   "cell_type": "code",
   "execution_count": 7,
   "id": "68407593",
   "metadata": {},
   "outputs": [],
   "source": [
    "dom = BeautifulSoup(html, 'html.parser')"
   ]
  },
  {
   "cell_type": "code",
   "execution_count": 8,
   "id": "9a1a6a83",
   "metadata": {},
   "outputs": [
    {
     "data": {
      "text/plain": [
       "bs4.BeautifulSoup"
      ]
     },
     "execution_count": 8,
     "metadata": {},
     "output_type": "execute_result"
    }
   ],
   "source": [
    "type(dom)"
   ]
  },
  {
   "cell_type": "code",
   "execution_count": 9,
   "id": "2f727c32",
   "metadata": {},
   "outputs": [],
   "source": [
    "dom.html.body.ul.li.p\n",
    "#html 의 관계를 순차적으로 내림차순!"
   ]
  },
  {
   "cell_type": "code",
   "execution_count": 10,
   "id": "444e730b",
   "metadata": {},
   "outputs": [],
   "source": [
    "dom.p\n",
    "#아니면 그냥 이렇게 첫번째 매칭한 애를 리턴하게 할수도 있다! 그리디"
   ]
  },
  {
   "cell_type": "code",
   "execution_count": 11,
   "id": "546fb91f",
   "metadata": {},
   "outputs": [
    {
     "data": {
      "text/plain": [
       "False"
      ]
     },
     "execution_count": 11,
     "metadata": {},
     "output_type": "execute_result"
    }
   ],
   "source": [
    "dom.a == dom.find_all('a')[1]"
   ]
  },
  {
   "cell_type": "code",
   "execution_count": 12,
   "id": "7493f792",
   "metadata": {},
   "outputs": [
    {
     "data": {
      "text/plain": [
       "<a href=\"link1.html\">내용1</a>"
      ]
     },
     "execution_count": 12,
     "metadata": {},
     "output_type": "execute_result"
    }
   ],
   "source": [
    "dom.find('a')"
   ]
  },
  {
   "cell_type": "code",
   "execution_count": 13,
   "id": "19376352",
   "metadata": {},
   "outputs": [
    {
     "data": {
      "text/plain": [
       "<a href=\"link1.html\">내용1</a>"
      ]
     },
     "execution_count": 13,
     "metadata": {},
     "output_type": "execute_result"
    }
   ],
   "source": [
    "dom.find(attrs={'href':'link1.html'})"
   ]
  },
  {
   "cell_type": "code",
   "execution_count": 14,
   "id": "0a2e2f02",
   "metadata": {},
   "outputs": [],
   "source": [
    "dom.find('a', recursive = False)\n",
    "#못찾는다! 이게 왜필요할까?\n",
    "#태그가 중복될때 자식은 됬고 자신만 불러올때 필요하다~"
   ]
  },
  {
   "cell_type": "code",
   "execution_count": 15,
   "id": "06b42192",
   "metadata": {},
   "outputs": [
    {
     "data": {
      "text/plain": [
       "<a href=\"link1.html\">내용1</a>"
      ]
     },
     "execution_count": 15,
     "metadata": {},
     "output_type": "execute_result"
    }
   ],
   "source": [
    "dom.find(text = '내용1').find_parent()"
   ]
  },
  {
   "cell_type": "code",
   "execution_count": 16,
   "id": "ba3e9cff",
   "metadata": {},
   "outputs": [
    {
     "data": {
      "text/plain": [
       "<a href=\"link1.html\">내용1</a>"
      ]
     },
     "execution_count": 16,
     "metadata": {},
     "output_type": "execute_result"
    }
   ],
   "source": [
    "dom.find(text = '내용1').find_parent('a')"
   ]
  },
  {
   "cell_type": "code",
   "execution_count": 17,
   "id": "8657c601",
   "metadata": {},
   "outputs": [
    {
     "data": {
      "text/plain": [
       "[<a href=\"link1.html\">내용1</a>, <a href=\"link2.html\">내용2</a>]"
      ]
     },
     "execution_count": 17,
     "metadata": {},
     "output_type": "execute_result"
    }
   ],
   "source": [
    "dom.find_all('a',limit=2)"
   ]
  },
  {
   "cell_type": "code",
   "execution_count": 18,
   "id": "ba51ded9",
   "metadata": {},
   "outputs": [
    {
     "data": {
      "text/plain": [
       "'내용1'"
      ]
     },
     "execution_count": 18,
     "metadata": {},
     "output_type": "execute_result"
    }
   ],
   "source": [
    "dom.find(text=re.compile('내용'))\n",
    "\n",
    "#정규식 표현도 사용 할 수 있다. 내용가지고 찝기도 하고, 어트리뷰트로 찝기도 하고.. 등등"
   ]
  },
  {
   "cell_type": "markdown",
   "id": "929c2817",
   "metadata": {},
   "source": [
    "find, find_all => 자식(recursive) 탐색\n",
    "\n",
    "find_parent, find_parents => 부모"
   ]
  },
  {
   "cell_type": "code",
   "execution_count": 19,
   "id": "88fac3db",
   "metadata": {},
   "outputs": [
    {
     "data": {
      "text/plain": [
       "[<li><a href=\"link1.html\">내용1</a></li>,\n",
       " <ul>\n",
       " <li><a href=\"link1.html\">내용1</a></li></ul>,\n",
       " <body>\n",
       " <ul>\n",
       " <li><a href=\"link1.html\">내용1</a></li></ul></body>,\n",
       " <html>\n",
       " <head></head>\n",
       " <body>\n",
       " <ul>\n",
       " <li><a href=\"link1.html\">내용1</a></li></ul></body></html>,\n",
       " \n",
       " <html>\n",
       " <head></head>\n",
       " <body>\n",
       " <ul>\n",
       " <li><a href=\"link1.html\">내용1</a></li></ul></body></html>\n",
       " <li><a href=\"link2.html\">내용2</a></li>\n",
       " <li><a href=\"link3.html\">내용3</a></li>\n",
       " <li><a href=\"link4.html\">내용4</a></li>\n",
       " \n",
       " \n",
       " \n",
       " ]"
      ]
     },
     "execution_count": 19,
     "metadata": {},
     "output_type": "execute_result"
    }
   ],
   "source": [
    "dom.a.find_parents()"
   ]
  },
  {
   "cell_type": "markdown",
   "id": "991a7731",
   "metadata": {},
   "source": [
    "-----"
   ]
  },
  {
   "cell_type": "code",
   "execution_count": 20,
   "id": "dbbc3424",
   "metadata": {},
   "outputs": [],
   "source": [
    "from requests import request, HTTPError\n",
    "from requests.compat import urljoin,urlparse,quote,unquote\n",
    "from time import sleep\n",
    "\n",
    "def download(url, params={},headers={},method=\"GET\"):\n",
    "    resp = request(url=url, params=params if method==\"GET\" else{},\n",
    "                   data=params if method ==\"POST\" else{},\n",
    "                   headers=headers, method=method)\n",
    "    \n",
    "    try:\n",
    "        resp.raise_for_status()\n",
    "    except HTTPError as e:\n",
    "        if 500 <= e.response.status_code < 600 and maximum >0:\n",
    "            print('try again')\n",
    "            sleep(1)\n",
    "            resp = download(url,params,headers,method,maximum-1)\n",
    "        else:\n",
    "            print(e)\n",
    "        \n",
    "    return resp"
   ]
  },
  {
   "cell_type": "code",
   "execution_count": 21,
   "id": "0c3e8606",
   "metadata": {},
   "outputs": [],
   "source": [
    "url = 'https://pythonscraping.com/pages/page3.html'\n",
    "resp = download(url)\n",
    "dom = BeautifulSoup(resp.text, 'html.parser')"
   ]
  },
  {
   "cell_type": "code",
   "execution_count": 22,
   "id": "be8d8d6b",
   "metadata": {},
   "outputs": [
    {
     "name": "stdout",
     "output_type": "stream",
     "text": [
      "img\n",
      "h1\n",
      "div\n",
      "table\n"
     ]
    }
   ],
   "source": [
    "for _ in dom.body.div.find_all(recursive=False):\n",
    "    print(_.name)"
   ]
  },
  {
   "cell_type": "code",
   "execution_count": 23,
   "id": "6f7029ff",
   "metadata": {},
   "outputs": [],
   "source": [
    "url = 'https://pythonscraping.com/pages/page3.html'\n",
    "resp = download(url)\n",
    "dom = BeautifulSoup(resp.text, 'html5lib')"
   ]
  },
  {
   "cell_type": "code",
   "execution_count": 24,
   "id": "1bd422ef",
   "metadata": {},
   "outputs": [
    {
     "name": "stdout",
     "output_type": "stream",
     "text": [
      "img\n",
      "h1\n",
      "div\n",
      "table\n",
      "p\n",
      "div\n"
     ]
    }
   ],
   "source": [
    "for _ in dom.body.div.find_all(recursive=False):\n",
    "    print(_.name)"
   ]
  },
  {
   "cell_type": "markdown",
   "id": "36682e6a",
   "metadata": {},
   "source": [
    "상황에 맞춰서 써야한다. 파서를 써야할 상황도 있고, 립을 써야하는 상황도 있다."
   ]
  },
  {
   "cell_type": "markdown",
   "id": "bc67ef0e",
   "metadata": {},
   "source": [
    "--------"
   ]
  },
  {
   "cell_type": "markdown",
   "id": "49cc19cf",
   "metadata": {},
   "source": [
    "특정 값을 찾는 연습!"
   ]
  },
  {
   "cell_type": "code",
   "execution_count": 25,
   "id": "c79632e0",
   "metadata": {},
   "outputs": [],
   "source": [
    "url = 'https://pythonscraping.com/pages/page3.html'\n",
    "resp = download(url)\n",
    "dom = BeautifulSoup(resp.text, 'html.parser')"
   ]
  },
  {
   "cell_type": "code",
   "execution_count": 26,
   "id": "0b9dbfcc",
   "metadata": {},
   "outputs": [],
   "source": [
    "base = dom.find(attrs={'id':'footer'})"
   ]
  },
  {
   "cell_type": "code",
   "execution_count": 27,
   "id": "bc7e01c6",
   "metadata": {},
   "outputs": [
    {
     "data": {
      "text/plain": [
       "<div id=\"footer\">\n",
       "© Totally Normal Gifts, Inc. <br/>\n",
       "+234 (617) 863-0736\n",
       "</div>"
      ]
     },
     "execution_count": 27,
     "metadata": {},
     "output_type": "execute_result"
    }
   ],
   "source": [
    "base"
   ]
  },
  {
   "cell_type": "code",
   "execution_count": 28,
   "id": "92190c9c",
   "metadata": {},
   "outputs": [
    {
     "data": {
      "text/plain": [
       "['html']"
      ]
     },
     "execution_count": 28,
     "metadata": {},
     "output_type": "execute_result"
    }
   ],
   "source": [
    "[_.name for _ in base.find_previous_siblings()]"
   ]
  },
  {
   "cell_type": "code",
   "execution_count": 29,
   "id": "de1b9c59",
   "metadata": {},
   "outputs": [
    {
     "data": {
      "text/plain": [
       "'$15.00'"
      ]
     },
     "execution_count": 29,
     "metadata": {},
     "output_type": "execute_result"
    }
   ],
   "source": [
    "base.find_previous_sibling().find().find_next_sibling()\\\n",
    ".find().find_all(recursive=False)[-1].find_all(recursive=False)[1]\\\n",
    ".find_all(recursive=False)[2].text.strip()"
   ]
  },
  {
   "cell_type": "code",
   "execution_count": 30,
   "id": "89605aad",
   "metadata": {},
   "outputs": [
    {
     "data": {
      "text/plain": [
       "[<tr><th>\n",
       " Item Title\n",
       " </th><th>\n",
       " Description\n",
       " </th><th>\n",
       " Cost\n",
       " </th><th>\n",
       " Image\n",
       " </th></tr>,\n",
       " <tr class=\"gift\" id=\"gift1\"><td>\n",
       " Vegetable Basket\n",
       " </td><td>\n",
       " This vegetable basket is the perfect gift for your health conscious (or overweight) friends!\n",
       " <span class=\"excitingNote\">Now with super-colorful bell peppers!</span>\n",
       " </td><td>\n",
       " $15.00\n",
       " </td><td>\n",
       " <img src=\"../img/gifts/img1.jpg\"/>\n",
       " </td></tr>,\n",
       " <tr class=\"gift\" id=\"gift2\"><td>\n",
       " Russian Nesting Dolls\n",
       " </td><td>\n",
       " Hand-painted by trained monkeys, these exquisite dolls are priceless! And by \"priceless,\" we mean \"extremely expensive\"! <span class=\"excitingNote\">8 entire dolls per set! Octuple the presents!</span>\n",
       " </td><td>\n",
       " $10,000.52\n",
       " </td><td>\n",
       " <img src=\"../img/gifts/img2.jpg\"/>\n",
       " </td></tr>,\n",
       " <tr class=\"gift\" id=\"gift3\"><td>\n",
       " Fish Painting\n",
       " </td><td>\n",
       " If something seems fishy about this painting, it's because it's a fish! <span class=\"excitingNote\">Also hand-painted by trained monkeys!</span>\n",
       " </td><td>\n",
       " $10,005.00\n",
       " </td><td>\n",
       " <img src=\"../img/gifts/img3.jpg\"/>\n",
       " </td></tr>,\n",
       " <tr class=\"gift\" id=\"gift4\"><td>\n",
       " Dead Parrot\n",
       " </td><td>\n",
       " This is an ex-parrot! <span class=\"excitingNote\">Or maybe he's only resting?</span>\n",
       " </td><td>\n",
       " $0.50\n",
       " </td><td>\n",
       " <img src=\"../img/gifts/img4.jpg\"/>\n",
       " </td></tr>,\n",
       " <tr class=\"gift\" id=\"gift5\"><td>\n",
       " Mystery Box\n",
       " </td><td>\n",
       " If you love suprises, this mystery box is for you! Do not place on light-colored surfaces. May cause oil staining. <span class=\"excitingNote\">Keep your friends guessing!</span>\n",
       " </td><td>\n",
       " $1.50\n",
       " </td><td>\n",
       " <img src=\"../img/gifts/img6.jpg\"/>\n",
       " </td></tr>]"
      ]
     },
     "execution_count": 30,
     "metadata": {},
     "output_type": "execute_result"
    }
   ],
   "source": [
    "dom.find('table').find_all(recursive=False)\n",
    "#이렇게 하면 모든 행을 볼 수 있다"
   ]
  },
  {
   "cell_type": "code",
   "execution_count": 31,
   "id": "edf0e27e",
   "metadata": {},
   "outputs": [
    {
     "name": "stdout",
     "output_type": "stream",
     "text": [
      "$15.00\n",
      "$10,000.52\n",
      "$10,005.00\n",
      "$0.50\n",
      "$1.50\n"
     ]
    }
   ],
   "source": [
    "for _ in dom.find('table').find_all(recursive=False):\n",
    "    if _.find('td'):\n",
    "        print(_.find_all('td')[2].text.strip())\n",
    "        \n",
    "#각 가격을 이렇게 출력할 수 있다"
   ]
  },
  {
   "cell_type": "code",
   "execution_count": 32,
   "id": "9c73d468",
   "metadata": {},
   "outputs": [
    {
     "name": "stdout",
     "output_type": "stream",
     "text": [
      "Image\n",
      "../img/gifts/img1.jpg\n",
      "https://pythonscraping.com/img/gifts/img1.jpg\n",
      "../img/gifts/img2.jpg\n",
      "https://pythonscraping.com/img/gifts/img2.jpg\n",
      "../img/gifts/img3.jpg\n",
      "https://pythonscraping.com/img/gifts/img3.jpg\n",
      "../img/gifts/img4.jpg\n",
      "https://pythonscraping.com/img/gifts/img4.jpg\n",
      "../img/gifts/img6.jpg\n",
      "https://pythonscraping.com/img/gifts/img6.jpg\n"
     ]
    }
   ],
   "source": [
    "for _ in dom.find('table').find_all(recursive=False):\n",
    "    if _.find('td'):\n",
    "        print(_.find_all('td')[-1].find('img').attrs['src'])\n",
    "        print(urljoin(resp.request.url,\n",
    "                     _.find_all('td')[-1].find('img').attrs['src']))\n",
    "    else:\n",
    "        print(_.find_all('th')[-1].text.strip())"
   ]
  },
  {
   "cell_type": "markdown",
   "id": "1ab4b614",
   "metadata": {},
   "source": [
    "-------"
   ]
  },
  {
   "cell_type": "markdown",
   "id": "98d4cf7b",
   "metadata": {},
   "source": [
    "7월 8일 목요일 아침 10시"
   ]
  },
  {
   "cell_type": "markdown",
   "id": "c5ed2583",
   "metadata": {},
   "source": [
    "http 가지고 리퀘스트 보내고 리스펀스 보내는거 어제 했다.\n",
    "항상 바이트형태의 스트링으로 날라가기 때문에 변환이 필요하다! 유니코드로!\n",
    "리퀘스트라는 패키지를 썼다 -\n",
    "다운로드 함수도 만들었다\n",
    "에러는 400번대 에러, 500번대 에러도 공부했었다\n",
    "xml, json 타입의 마크업 문서들을 어떻게 파싱할것이냐 - 이제 뷰티풀숩으로 돔을 생성해서 한다!\n",
    "돔을 파싱할때 어제 해본건 특정 노드의 구조를 통해 찾는 연습을 했었다~\n",
    "\n",
    "최대한 많이 연습을 하다보면 자연스럽게 익혀진다."
   ]
  },
  {
   "cell_type": "markdown",
   "id": "a36541c9",
   "metadata": {},
   "source": [
    "------"
   ]
  },
  {
   "cell_type": "code",
   "execution_count": 52,
   "id": "9c39516e",
   "metadata": {},
   "outputs": [],
   "source": [
    "from requests import Response , request"
   ]
  },
  {
   "cell_type": "code",
   "execution_count": 59,
   "id": "e6cd858d",
   "metadata": {},
   "outputs": [
    {
     "ename": "NameError",
     "evalue": "name 'header' is not defined",
     "output_type": "error",
     "traceback": [
      "\u001b[0;31m---------------------------------------------------------------------------\u001b[0m",
      "\u001b[0;31mNameError\u001b[0m                                 Traceback (most recent call last)",
      "\u001b[0;32m<ipython-input-59-a4ef219d9504>\u001b[0m in \u001b[0;36m<module>\u001b[0;34m\u001b[0m\n\u001b[1;32m     12\u001b[0m \u001b[0mparams\u001b[0m\u001b[0;34m[\u001b[0m\u001b[0;34m'q'\u001b[0m\u001b[0;34m]\u001b[0m \u001b[0;34m=\u001b[0m \u001b[0;34m'파이썬'\u001b[0m\u001b[0;34m\u001b[0m\u001b[0;34m\u001b[0m\u001b[0m\n\u001b[1;32m     13\u001b[0m \u001b[0;34m\u001b[0m\u001b[0m\n\u001b[0;32m---> 14\u001b[0;31m \u001b[0mresp\u001b[0m \u001b[0;34m=\u001b[0m \u001b[0mdownload\u001b[0m\u001b[0;34m(\u001b[0m\u001b[0murl\u001b[0m\u001b[0;34m,\u001b[0m \u001b[0mparams\u001b[0m\u001b[0;34m,\u001b[0m \u001b[0mheader\u001b[0m\u001b[0;34m,\u001b[0m \u001b[0;34m'GET'\u001b[0m\u001b[0;34m)\u001b[0m\u001b[0;34m\u001b[0m\u001b[0;34m\u001b[0m\u001b[0m\n\u001b[0m",
      "\u001b[0;31mNameError\u001b[0m: name 'header' is not defined"
     ]
    }
   ],
   "source": [
    "url='https://www.google.com/search'\n",
    "params={\n",
    "     'q' : '파이썬',\n",
    "     'ei': 'f0jlYOetBJWUr7wPl8uE0Aw',\n",
    "     'oq': '파 이 썬',\n",
    "     'gs_lcp': 'Cgdnd3Mtd2l6EAMyAggmMgIIJjoHCAAQRxCwA0oECEEYAFDZ6gZYme0GYLv0BmgBcAJ4AIABtAGIAY8EkgEDMC4zmAEAoAEBqgEHZ3dzLXdpesgBCMABAQ',\n",
    "     'sclient': 'gws-wiz',\n",
    "     'ved': '0ahUKEwin6dOrqdDxAhUVyosBHZclAcoQ4dUDCA4',\n",
    "     'uact': '5'    \n",
    "}\n",
    "\n",
    "params['q'] = '파이썬'\n",
    "\n",
    "resp = download(url, params, header, 'GET')"
   ]
  },
  {
   "cell_type": "code",
   "execution_count": null,
   "id": "c7947f39",
   "metadata": {},
   "outputs": [],
   "source": [
    "dom = BeautifulSoup(resp.text, 'lxml')"
   ]
  },
  {
   "cell_type": "code",
   "execution_count": null,
   "id": "f156d00c",
   "metadata": {},
   "outputs": [],
   "source": [
    "dom.find(attrs={'id':'rso'})\n",
    "[_.name for _ in result.find_all(recursive=False)]"
   ]
  },
  {
   "cell_type": "code",
   "execution_count": null,
   "id": "74539dc7",
   "metadata": {},
   "outputs": [],
   "source": []
  },
  {
   "cell_type": "code",
   "execution_count": null,
   "id": "684ca38c",
   "metadata": {},
   "outputs": [],
   "source": []
  },
  {
   "cell_type": "code",
   "execution_count": null,
   "id": "0ef0795c",
   "metadata": {},
   "outputs": [],
   "source": []
  },
  {
   "cell_type": "code",
   "execution_count": null,
   "id": "af72194f",
   "metadata": {},
   "outputs": [],
   "source": []
  },
  {
   "cell_type": "code",
   "execution_count": null,
   "id": "610d41d2",
   "metadata": {},
   "outputs": [],
   "source": []
  },
  {
   "cell_type": "code",
   "execution_count": null,
   "id": "1a965112",
   "metadata": {},
   "outputs": [],
   "source": []
  },
  {
   "cell_type": "code",
   "execution_count": null,
   "id": "cc0647f4",
   "metadata": {},
   "outputs": [],
   "source": []
  },
  {
   "cell_type": "code",
   "execution_count": null,
   "id": "aefec779",
   "metadata": {},
   "outputs": [],
   "source": []
  },
  {
   "cell_type": "code",
   "execution_count": null,
   "id": "e1ead50a",
   "metadata": {},
   "outputs": [],
   "source": []
  },
  {
   "cell_type": "code",
   "execution_count": null,
   "id": "3ab63bf0",
   "metadata": {},
   "outputs": [],
   "source": []
  },
  {
   "cell_type": "code",
   "execution_count": null,
   "id": "5003d942",
   "metadata": {},
   "outputs": [],
   "source": []
  },
  {
   "cell_type": "code",
   "execution_count": null,
   "id": "1f898b18",
   "metadata": {},
   "outputs": [],
   "source": []
  },
  {
   "cell_type": "code",
   "execution_count": null,
   "id": "9db56f69",
   "metadata": {},
   "outputs": [],
   "source": []
  },
  {
   "cell_type": "code",
   "execution_count": null,
   "id": "3941a222",
   "metadata": {},
   "outputs": [],
   "source": []
  },
  {
   "cell_type": "code",
   "execution_count": null,
   "id": "003dd307",
   "metadata": {},
   "outputs": [],
   "source": []
  },
  {
   "cell_type": "code",
   "execution_count": null,
   "id": "6a53534b",
   "metadata": {},
   "outputs": [],
   "source": []
  }
 ],
 "metadata": {
  "kernelspec": {
   "display_name": "Python 3",
   "language": "python",
   "name": "python3"
  },
  "language_info": {
   "codemirror_mode": {
    "name": "ipython",
    "version": 3
   },
   "file_extension": ".py",
   "mimetype": "text/x-python",
   "name": "python",
   "nbconvert_exporter": "python",
   "pygments_lexer": "ipython3",
   "version": "3.8.8"
  }
 },
 "nbformat": 4,
 "nbformat_minor": 5
}
