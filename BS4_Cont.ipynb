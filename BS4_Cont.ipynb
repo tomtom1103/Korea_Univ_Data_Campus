{
 "cells": [
  {
   "cell_type": "code",
   "execution_count": null,
   "id": "ea066150",
   "metadata": {},
   "outputs": [],
   "source": [
    "7월 8일 목요일 아침 10시"
   ]
  },
  {
   "cell_type": "code",
   "execution_count": null,
   "id": "ec13840c",
   "metadata": {},
   "outputs": [],
   "source": [
    "http 가지고 리퀘스트 보내고 리스펀스 보내는거 어제 했다.\n",
    "항상 바이트형태의 스트링으로 날라가기 때문에 변환이 필요하다! 유니코드로!\n",
    "리퀘스트라는 패키지를 썼다 -\n",
    "다운로드 함수도 만들었다\n",
    "에러는 400번대 에러, 500번대 에러도 공부했었다\n",
    "xml, json 타입의 마크업 문서들을 어떻게 파싱할것이냐 - 이제 뷰티풀숩으로 돔을 생성해서 한다!\n",
    "돔을 파싱할때 어제 해본건 특정 노드의 구조를 통해 찾는 연습을 했었다~\n",
    "\n",
    "최대한 많이 연습을 하다보면 자연스럽게 익혀진다."
   ]
  },
  {
   "cell_type": "code",
   "execution_count": 1,
   "id": "d8200970",
   "metadata": {},
   "outputs": [],
   "source": [
    "from requests import Response, Request, request"
   ]
  },
  {
   "cell_type": "code",
   "execution_count": 16,
   "id": "2e1d495e",
   "metadata": {},
   "outputs": [],
   "source": [
    "header = {\n",
    "'user-agent':'Mozilla/5.0 (Macintosh; Intel Mac OS X 10_15_7) AppleWebKit/537.36 (KHTML, like Gecko) Chrome/91.0.4472.114 Safari/537.36'\n",
    "}"
   ]
  },
  {
   "cell_type": "code",
   "execution_count": 3,
   "id": "a8f3d5aa",
   "metadata": {},
   "outputs": [],
   "source": [
    "from requests import request, HTTPError\n",
    "from requests.compat import urljoin,urlparse,quote,unquote\n",
    "\n",
    "\n",
    "def download(url, params={},headers={},method='GET',maximum=1):\n",
    "    resp = request(url=url, params=params if method=='GET' else{},\n",
    "                   data=params if method ==\"POST\" else{},\n",
    "                   headers=headers, method= method)\n",
    "    \n",
    "    try:\n",
    "        resp.raise_for_status()\n",
    "    except HTTPError as e:\n",
    "        if 500< e.response.status_code <600 and maximum > 0:\n",
    "            printint('다시 시도')\n",
    "            sleep(1)\n",
    "            resp= download(url,params,headers,method,maximumum-1)\n",
    "        print(e)\n",
    "        \n",
    "    return resp"
   ]
  },
  {
   "cell_type": "code",
   "execution_count": 4,
   "id": "a7d3eb8e",
   "metadata": {},
   "outputs": [],
   "source": [
    "from requests.compat import urljoin, urlparse, quote, unquote"
   ]
  },
  {
   "cell_type": "code",
   "execution_count": 5,
   "id": "5b324403",
   "metadata": {},
   "outputs": [],
   "source": [
    "from bs4 import BeautifulSoup"
   ]
  },
  {
   "cell_type": "code",
   "execution_count": 6,
   "id": "bf81005b",
   "metadata": {},
   "outputs": [],
   "source": [
    "import re"
   ]
  },
  {
   "cell_type": "code",
   "execution_count": 7,
   "id": "042f7738",
   "metadata": {},
   "outputs": [],
   "source": [
    "url=\"http://www.pythonscraping.com/pages/page3.html\"\n",
    "resp=download(url)\n",
    "dom=BeautifulSoup(resp.text, 'html.parser')"
   ]
  },
  {
   "cell_type": "code",
   "execution_count": 8,
   "id": "5b354732",
   "metadata": {},
   "outputs": [
    {
     "data": {
      "text/plain": [
       "[<img src=\"../img/gifts/logo.jpg\" style=\"float:left;\"/>,\n",
       " <img src=\"../img/gifts/img1.jpg\"/>,\n",
       " <img src=\"../img/gifts/img2.jpg\"/>,\n",
       " <img src=\"../img/gifts/img3.jpg\"/>,\n",
       " <img src=\"../img/gifts/img4.jpg\"/>,\n",
       " <img src=\"../img/gifts/img6.jpg\"/>]"
      ]
     },
     "execution_count": 8,
     "metadata": {},
     "output_type": "execute_result"
    }
   ],
   "source": [
    "dom.find_all('img',attrs={'src':re.compile(r'jpg$')})"
   ]
  },
  {
   "cell_type": "code",
   "execution_count": 9,
   "id": "d5716747",
   "metadata": {},
   "outputs": [
    {
     "data": {
      "text/plain": [
       "['\\nAbuja, Nigeria\\nWe will then send your totally amazing gift, pronto! Please include an extra $5.00 for gift wrapping.',\n",
       " '\\n$15.00\\n',\n",
       " '\\n$10,000.52\\n',\n",
       " '\\n$10,005.00\\n',\n",
       " '\\n$0.50\\n',\n",
       " '\\n$1.50\\n']"
      ]
     },
     "execution_count": 9,
     "metadata": {},
     "output_type": "execute_result"
    }
   ],
   "source": [
    "dom.find_all(text=re.compile(r'\\$(\\d+[,])*\\d+(?:[.]\\d)?'))"
   ]
  },
  {
   "cell_type": "markdown",
   "id": "e759bdbe",
   "metadata": {},
   "source": [
    "-----------"
   ]
  },
  {
   "cell_type": "markdown",
   "id": "a8579474",
   "metadata": {},
   "source": [
    "그럼 구글 파이썬 검색 해볼까?"
   ]
  },
  {
   "cell_type": "code",
   "execution_count": 10,
   "id": "2e1815bf",
   "metadata": {},
   "outputs": [],
   "source": [
    "from urllib import parse"
   ]
  },
  {
   "cell_type": "code",
   "execution_count": 13,
   "id": "f4900f12",
   "metadata": {},
   "outputs": [
    {
     "data": {
      "text/plain": [
       "{'https://www.google.com/search?q': ['파이썬'],\n",
       " 'sxsrf': ['ALeKk00ScoS2gY7pKq0OfxU1EkR0PJYAWw:1625636037642'],\n",
       " 'source': ['hp'],\n",
       " 'ei': ['xTzlYJPwJI6Yr7wPptm3oA4'],\n",
       " 'iflsig': ['AINFCbYAAAAAYOVK1XL-vM1Ln6db_dCPZoRxqRKHO10p'],\n",
       " 'oq': ['파이썬'],\n",
       " 'gs_lcp': ['Cgdnd3Mtd2l6EAMyBAgjECcyBAgjECcyBAgjECcyBAgAEEMyBAgAEEMyBAgAEEMyBAgAEEMyBQgAELEDMgQIABBDMggIABCxAxCDAToHCCMQ6gIQJzoECAAQCjoCCABQ6ARY7g5gghBoBHAAeAKAAagBiAHPB5IBAzAuN5gBAKABAaoBB2d3cy13aXqwAQo'],\n",
       " 'sclient': ['gws-wiz'],\n",
       " 'ved': ['0ahUKEwjT5riUntDxAhUOzIsBHabsDeQQ4dUDCAc'],\n",
       " 'uact': ['5']}"
      ]
     },
     "execution_count": 13,
     "metadata": {},
     "output_type": "execute_result"
    }
   ],
   "source": [
    "parse.parse_qs('https://www.google.com/search?q=%ED%8C%8C%EC%9D%B4%EC%8D%AC&sxsrf=ALeKk00ScoS2gY7pKq0OfxU1EkR0PJYAWw%3A1625636037642&source=hp&ei=xTzlYJPwJI6Yr7wPptm3oA4&iflsig=AINFCbYAAAAAYOVK1XL-vM1Ln6db_dCPZoRxqRKHO10p&oq=%ED%8C%8C%EC%9D%B4%EC%8D%AC&gs_lcp=Cgdnd3Mtd2l6EAMyBAgjECcyBAgjECcyBAgjECcyBAgAEEMyBAgAEEMyBAgAEEMyBAgAEEMyBQgAELEDMgQIABBDMggIABCxAxCDAToHCCMQ6gIQJzoECAAQCjoCCABQ6ARY7g5gghBoBHAAeAKAAagBiAHPB5IBAzAuN5gBAKABAaoBB2d3cy13aXqwAQo&sclient=gws-wiz&ved=0ahUKEwjT5riUntDxAhUOzIsBHabsDeQQ4dUDCAc&uact=5')"
   ]
  },
  {
   "cell_type": "code",
   "execution_count": 17,
   "id": "209c3d15",
   "metadata": {},
   "outputs": [],
   "source": [
    "url=\"https://www.google.com/search\"\n",
    "\n",
    "params={\n",
    "    'q': '파이썬',\n",
    "    'sxsrf': ['ALeKk00ScoS2gY7pKq0OfxU1EkR0PJYAWw:1625636037642'],\n",
    "    'source': ['hp'],\n",
    "    'ei': ['xTzlYJPwJI6Yr7wPptm3oA4'],\n",
    "    'iflsig': ['AINFCbYAAAAAYOVK1XL-vM1Ln6db_dCPZoRxqRKHO10p'],\n",
    "    'oq': ['파이썬'],\n",
    "    'gs_lcp': ['Cgdnd3Mtd2l6EAMyBAgjECcyBAgjECcyBAgjECcyBAgAEEMyBAgAEEMyBAgAEEMyBAgAEEMyBQgAELEDMgQIABBDMggIABCxAxCDAToHCCMQ6gIQJzoECAAQCjoCCABQ6ARY7g5gghBoBHAAeAKAAagBiAHPB5IBAzAuN5gBAKABAaoBB2d3cy13aXqwAQo'],\n",
    "    'sclient': ['gws-wiz'],\n",
    "    'ved': ['0ahUKEwjT5riUntDxAhUOzIsBHabsDeQQ4dUDCAc'],\n",
    "    'uact': ['5']\n",
    "    \n",
    "}\n",
    "\n",
    "resp=download(url,params, header, 'GET')"
   ]
  },
  {
   "cell_type": "code",
   "execution_count": 18,
   "id": "3da7860d",
   "metadata": {},
   "outputs": [],
   "source": [
    "#구글검색결과\n",
    "dom=BeautifulSoup(resp.text, 'lxml')"
   ]
  },
  {
   "cell_type": "code",
   "execution_count": 19,
   "id": "34f0055f",
   "metadata": {},
   "outputs": [],
   "source": [
    "result=dom.find(attrs={'id':'rso'})"
   ]
  },
  {
   "cell_type": "code",
   "execution_count": 20,
   "id": "d4facdfc",
   "metadata": {},
   "outputs": [],
   "source": [
    "res_list=[(_.name,_['class']) for _ in result.find_all(recursive=False)]"
   ]
  },
  {
   "cell_type": "code",
   "execution_count": 21,
   "id": "b38935a4",
   "metadata": {},
   "outputs": [
    {
     "data": {
      "text/plain": [
       "[('div', ['g']),\n",
       " ('div', ['g']),\n",
       " ('div', ['g']),\n",
       " ('div', ['g']),\n",
       " ('div', ['g']),\n",
       " ('div', ['hlcw0c']),\n",
       " ('div', ['ULSxyf']),\n",
       " ('div', ['g']),\n",
       " ('div', ['hlcw0c'])]"
      ]
     },
     "execution_count": 21,
     "metadata": {},
     "output_type": "execute_result"
    }
   ],
   "source": [
    "res_list"
   ]
  },
  {
   "cell_type": "markdown",
   "id": "c496cf79",
   "metadata": {},
   "source": [
    "-----"
   ]
  },
  {
   "cell_type": "code",
   "execution_count": 35,
   "id": "40119e78",
   "metadata": {},
   "outputs": [
    {
     "data": {
      "text/plain": [
       "{'where': ['nexearch'],\n",
       " 'sm': ['top_hty'],\n",
       " 'fbm': ['1'],\n",
       " 'ie': ['utf8'],\n",
       " 'query': ['통영여행']}"
      ]
     },
     "execution_count": 35,
     "metadata": {},
     "output_type": "execute_result"
    }
   ],
   "source": [
    "#새로운 크롤링을 하고싶으면 url, 파라미터를 정의해야한다!\n",
    "url = 'https://search.naver.com/search.naver'\n",
    "parse.parse_qs('where=nexearch&sm=top_hty&fbm=1&ie=utf8&query=%ED%86%B5%EC%98%81%EC%97%AC%ED%96%89')\n",
    "#이런식으로 파라미터값을 출력하고, 새로 지정해준뒤 resp에 넣고 새로운 dom 을 지정!!"
   ]
  },
  {
   "cell_type": "markdown",
   "id": "bfd83bca",
   "metadata": {},
   "source": [
    "--------"
   ]
  },
  {
   "cell_type": "code",
   "execution_count": 32,
   "id": "6fdf0107",
   "metadata": {},
   "outputs": [
    {
     "data": {
      "text/plain": [
       "False"
      ]
     },
     "execution_count": 32,
     "metadata": {},
     "output_type": "execute_result"
    }
   ],
   "source": [
    "def can_fetch(url,path):\n",
    "    resp = download(urljoin(url, '/robots.txt'))\n",
    "    allow = list()\n",
    "    disallow = list()\n",
    "    \n",
    "    if resp.status_code == 200:\n",
    "        useragent = '*'\n",
    "        for _ in resp.text.splitlines():\n",
    "            pair = _.split(':')\n",
    "            if len(pair) == 2:\n",
    "                if pair[0].strip == 'User-agent':\n",
    "                    useragent = pair[1]\n",
    "                else:\n",
    "                    if pair[1].strip() == 'Allow':\n",
    "                        allow.append(pair[1].strip())\n",
    "                    else:\n",
    "                        disallow.append(pair[1].strip())\n",
    "\n",
    "    return  True if path in allow else False, allow, disallow\n",
    "\n",
    "can_fetch('https://www.google.com','/search')[0]\n",
    "\n",
    "#robot.txt 파일을 함수로 호출해서 그 부분을 호출 할 수 있는지!!"
   ]
  },
  {
   "cell_type": "markdown",
   "id": "68f4461f",
   "metadata": {},
   "source": [
    "------"
   ]
  },
  {
   "cell_type": "markdown",
   "id": "a74a9c93",
   "metadata": {},
   "source": [
    "### API 사용법"
   ]
  },
  {
   "cell_type": "code",
   "execution_count": 46,
   "id": "f2194aab",
   "metadata": {},
   "outputs": [],
   "source": [
    "url = 'http://openapi.data.go.kr/openapi/service/rest/Covid19/getCovid19InfStateJson'\n",
    "\n",
    "params = {\n",
    "    'serviceKey': 'NZoWtJpxmGwxYqmjkrqGSWF6Ik8EHLoECWFgCTqx1fCJQ/OZSOWGeWJy30PjDjsqoSpI8Q0bcGZf9O8jdTJ4Rg==' ,\n",
    "    'pageNo':1,\n",
    "    'numOfRows':10,\n",
    "    'startCreateDt':20200310,\n",
    "    'endCreateDt':20200315,\n",
    "    \n",
    "}\n",
    "\n",
    "resp = download(url, params=params)\n",
    "\n",
    "#공공데이터포털에서 API 를 신청하고, 승인이 나면 파일 다운로드 후 거기 있는 요청메세지를 url, params 로 나눈다!"
   ]
  },
  {
   "cell_type": "code",
   "execution_count": 47,
   "id": "f2a0e664",
   "metadata": {},
   "outputs": [
    {
     "data": {
      "text/plain": [
       "'<?xml version=\"1.0\" encoding=\"UTF-8\" standalone=\"yes\"?><response><header><resultCode>00</resultCode><resultMsg>NORMAL SERVICE.</resultMsg></header><body><items><item><accDefRate>3.2396602365</accDefRate><accExamCnt>268212</accExamCnt><accExamCompCnt>251940</accExamCompCnt><careCnt>7300</careCnt><clearCnt>834</clearCnt><createDt>2020-03-15 10:01:22.22</createDt><deathCnt>75</deathCnt><decideCnt>8162</decideCnt><examCnt>16272</examCnt><resutlNegCnt>243778</resutlNegCnt><seq>74</seq><stateDt>20200315</stateDt><stateTime>00:00</stateTime><updateDt>2020-03-15 10:01:22.22</updateDt></item><item><accDefRate>3.3180003364</accDefRate><accExamCnt>261335</accExamCnt><accExamCompCnt>243701</accExamCompCnt><careCnt>7402</careCnt><clearCnt>714</clearCnt><createDt>2020-03-14 10:29:11.11</createDt><deathCnt>72</deathCnt><decideCnt>8086</decideCnt><examCnt>17634</examCnt><resutlNegCnt>235615</resutlNegCnt><seq>73</seq><stateDt>20200314</stateDt><stateTime>00:00</stateTime><updateDt>2020-03-14 10:29:11.11</updateDt></item><item><accDefRate>3.4584993086</accDefRate><accExamCnt>248647</accExamCnt><accExamCompCnt>230707</accExamCompCnt><careCnt>7470</careCnt><clearCnt>510</clearCnt><createDt>2020-03-13 10:07:22.22</createDt><deathCnt>67</deathCnt><decideCnt>7979</decideCnt><examCnt>17940</examCnt><resutlNegCnt>222728</resutlNegCnt><seq>72</seq><stateDt>20200313</stateDt><stateTime>00:00</stateTime><updateDt>2020-03-13 10:07:22.22</updateDt></item><item><accDefRate>3.6217442732</accDefRate><accExamCnt>234998</accExamCnt><accExamCompCnt>217271</accExamCompCnt><careCnt>7407</careCnt><clearCnt>333</clearCnt><createDt>2020-03-12 10:37:03.03</createDt><deathCnt>66</deathCnt><decideCnt>7869</decideCnt><examCnt>17727</examCnt><resutlNegCnt>209402</resutlNegCnt><seq>71</seq><stateDt>20200312</stateDt><stateTime>00:00</stateTime><updateDt>2020-03-12 10:37:03.03</updateDt></item><item><accDefRate>3.8041745358</accDefRate><accExamCnt>222395</accExamCnt><accExamCompCnt>203855</accExamCompCnt><careCnt>7212</careCnt><clearCnt>288</clearCnt><createDt>2020-03-11 10:17:19.19</createDt><deathCnt>60</deathCnt><decideCnt>7755</decideCnt><examCnt>18540</examCnt><resutlNegCnt>196100</resutlNegCnt><seq>70</seq><stateDt>20200311</stateDt><stateTime>00:00</stateTime><updateDt>2020-03-11 10:17:19.19</updateDt></item><item><accDefRate>3.9193080566</accDefRate><accExamCnt>210144</accExamCnt><accExamCompCnt>191692</accExamCompCnt><careCnt>7165</careCnt><clearCnt>247</clearCnt><createDt>2020-03-10 10:20:27.27</createDt><deathCnt>54</deathCnt><decideCnt>7513</decideCnt><examCnt>18452</examCnt><resutlNegCnt>184179</resutlNegCnt><seq>69</seq><stateDt>20200310</stateDt><stateTime>00:00</stateTime><updateDt>2020-03-10 10:20:27.27</updateDt></item></items><numOfRows>10</numOfRows><pageNo>1</pageNo><totalCount>6</totalCount></body></response>'"
      ]
     },
     "execution_count": 47,
     "metadata": {},
     "output_type": "execute_result"
    }
   ],
   "source": [
    "resp.text\n",
    "#잘 출력된다!"
   ]
  },
  {
   "cell_type": "code",
   "execution_count": 48,
   "id": "b82956e7",
   "metadata": {},
   "outputs": [],
   "source": [
    "dom = BeautifulSoup(resp.text, 'lxml')"
   ]
  },
  {
   "cell_type": "code",
   "execution_count": 51,
   "id": "90bf7c9d",
   "metadata": {},
   "outputs": [
    {
     "data": {
      "text/plain": [
       "6"
      ]
     },
     "execution_count": 51,
     "metadata": {},
     "output_type": "execute_result"
    }
   ],
   "source": [
    "len(dom.find_all('item'))\n",
    "\n",
    "#총 6일치의 아이템이 존재한다!"
   ]
  },
  {
   "cell_type": "code",
   "execution_count": 54,
   "id": "40d1c5ae",
   "metadata": {},
   "outputs": [
    {
     "data": {
      "text/plain": [
       "['accdefrate',\n",
       " 'accexamcnt',\n",
       " 'accexamcompcnt',\n",
       " 'carecnt',\n",
       " 'clearcnt',\n",
       " 'createdt',\n",
       " 'deathcnt',\n",
       " 'decidecnt',\n",
       " 'examcnt',\n",
       " 'resutlnegcnt',\n",
       " 'seq',\n",
       " 'statedt',\n",
       " 'statetime',\n",
       " 'updatedt']"
      ]
     },
     "execution_count": 54,
     "metadata": {},
     "output_type": "execute_result"
    }
   ],
   "source": [
    "[_.name for _ in dom.find_all('item')[0].find_all(recursive=False)]"
   ]
  },
  {
   "cell_type": "code",
   "execution_count": 55,
   "id": "b0689eb0",
   "metadata": {},
   "outputs": [
    {
     "name": "stdout",
     "output_type": "stream",
     "text": [
      "accdefrate\n",
      "3.2396602365\n",
      "\n",
      "accexamcnt\n",
      "268212\n",
      "\n",
      "accexamcompcnt\n",
      "251940\n",
      "\n",
      "carecnt\n",
      "7300\n",
      "\n",
      "clearcnt\n",
      "834\n",
      "\n",
      "createdt\n",
      "2020-03-15 10:01:22.22\n",
      "\n",
      "deathcnt\n",
      "75\n",
      "\n",
      "decidecnt\n",
      "8162\n",
      "\n",
      "examcnt\n",
      "16272\n",
      "\n",
      "resutlnegcnt\n",
      "243778\n",
      "\n",
      "seq\n",
      "74\n",
      "\n",
      "statedt\n",
      "20200315\n",
      "\n",
      "statetime\n",
      "00:00\n",
      "\n",
      "updatedt\n",
      "2020-03-15 10:01:22.22\n",
      "\n"
     ]
    }
   ],
   "source": [
    "for _ in dom.find_all('item')[0].find_all(recursive=False):\n",
    "    print(_.name)\n",
    "    print(_.text.strip())\n",
    "    print()\n",
    "    \n",
    "#백서를 읽어야 실제로 해석을 할 수 있지만, 일단 이렇게 불러올 수 있다!\n",
    "#판다스로 정형화된 데이터로 정제하고, 디비에 저장할 수도 있고 등등등 할 수 있다!!!"
   ]
  },
  {
   "cell_type": "markdown",
   "id": "3808c9d0",
   "metadata": {},
   "source": [
    "정형: DB(ORM)\n",
    "반정형: HTML, XML, JSON, CSV\n",
    "비정형: text, image(sqlite, alchemy, beautifulsoup, requests package, regex) -> http\n",
    "\n",
    "dom 가지고 탐색하는게 제일 중요하다 배운거중에서!!!\n",
    "parser 을 뭐를 쓰냐에 따라 해석한게 바뀔수도 있으니 주의!!\n",
    "parser(html. parser-기본, lxml-안정적이고 빠르다, html5lib-브라우저)\n",
    "\n",
    "그리고 언제나 불법조심~\n",
    "robots.txt 반드시 확인! 없으면 opt out\n",
    "안되면 API 써라~\n",
    "\n",
    "이거가지고 크롤러를 만드는것이다. 정확히 말하자면 스크래핑하는것 -> 빅데이터 수집기"
   ]
  },
  {
   "cell_type": "markdown",
   "id": "8a2e5c6c",
   "metadata": {},
   "source": [
    "구조적으로 표현된 데이터는 뷰숩 사용해서 돔을 구성하면 된다\n",
    "근데 돔을 구성하는 방법은 하나가 아니다\n",
    "CSS으로도 할 수 있당\n",
    "\n",
    "html 돔은 모든 데이터가 다 들어있는데\n",
    "css 는 꾸며주는 부분도 다 들어가있다\n",
    "\n",
    "우린 특정 태그나 속성을 찾아야하기 때문에 css 에서 오브젝트를 찾아가는 방법을 알아야한다"
   ]
  },
  {
   "cell_type": "markdown",
   "id": "f044ec79",
   "metadata": {},
   "source": [
    "헤드 영역을 보면 스크립트, 스타일시트 등등 있다\n",
    "dom cssom 을 보면 좀 다르다. 일단 둘다 바디가 있다\n",
    "\n",
    "css selector\n",
    "h1 {color:red; font-size:10;}\n",
    "selector이 제일 중요하다\n",
    "\n",
    "find 함수는 dom을 탐색\n",
    "select 는 css 을 탐색"
   ]
  },
  {
   "cell_type": "markdown",
   "id": "7c2bd424",
   "metadata": {},
   "source": [
    "그럼 예제를 해보자!"
   ]
  },
  {
   "cell_type": "code",
   "execution_count": 56,
   "id": "ae66c380",
   "metadata": {},
   "outputs": [],
   "source": [
    "url=\"http://www.pythonscraping.com/pages/page3.html\"\n",
    "resp=download(url)\n",
    "dom=BeautifulSoup(resp.text, 'html.parser')"
   ]
  },
  {
   "cell_type": "markdown",
   "id": "35e05672",
   "metadata": {},
   "source": [
    "tr의 자손중 td 를 찾아라!\n",
    "'tr, td' 는 복수개\n",
    "'tr td'는 자손(recursive=True)\n",
    "'tr>td'는 자손(recursive=False)\n",
    "        1열 2열 3열\n",
    "1행 <tr> 1  2   3\n",
    "2행 <tr> 4  5   6\n",
    "3행 <tr>\n",
    "select('tr') = 3개\n",
    "select('td') = 행*열 [1,2,3,4,5,...]\n",
    "select('tr td') = (자손)행*열 [1,2,3,4,5,...]\n",
    "select('tr>td') = (자식)행*열 [1,2,3,4,5,...]\n",
    "\n",
    "select('tr>td:nth-of-type(2)') = 1행2열, 2행2열, 3행2열\n",
    "    \n",
    "    \n",
    "  "
   ]
  },
  {
   "cell_type": "code",
   "execution_count": null,
   "id": "9eb4de12",
   "metadata": {},
   "outputs": [],
   "source": [
    "dom.select('tr td')"
   ]
  },
  {
   "cell_type": "code",
   "execution_count": 65,
   "id": "c7ac1115",
   "metadata": {},
   "outputs": [
    {
     "data": {
      "text/plain": [
       "['$15.00', '$10,000.52', '$10,005.00', '$0.50', '$1.50']"
      ]
     },
     "execution_count": 65,
     "metadata": {},
     "output_type": "execute_result"
    }
   ],
   "source": [
    "[_.text.strip() for _ in dom.select('tr > td:nth-of-type(3)')]"
   ]
  },
  {
   "cell_type": "markdown",
   "id": "71fd6510",
   "metadata": {},
   "source": [
    "tr > td:nth-of-type 각 행에서 자식열의 몇번째\n",
    "td:nth-of-type 모든열에서 몇번\n",
    "tr td:nth-of-type 각 행의 모든 열의 몇번째"
   ]
  },
  {
   "cell_type": "code",
   "execution_count": 67,
   "id": "0f31c0af",
   "metadata": {},
   "outputs": [
    {
     "data": {
      "text/plain": [
       "[<img src=\"../img/gifts/img1.jpg\"/>,\n",
       " <img src=\"../img/gifts/img2.jpg\"/>,\n",
       " <img src=\"../img/gifts/img3.jpg\"/>,\n",
       " <img src=\"../img/gifts/img4.jpg\"/>,\n",
       " <img src=\"../img/gifts/img6.jpg\"/>]"
      ]
     },
     "execution_count": 67,
     "metadata": {},
     "output_type": "execute_result"
    }
   ],
   "source": [
    "dom.select('tr > td:nth-of-type(4) > img')"
   ]
  },
  {
   "cell_type": "code",
   "execution_count": 68,
   "id": "cf203074",
   "metadata": {},
   "outputs": [
    {
     "data": {
      "text/plain": [
       "[<img src=\"../img/gifts/img1.jpg\"/>,\n",
       " <img src=\"../img/gifts/img2.jpg\"/>,\n",
       " <img src=\"../img/gifts/img3.jpg\"/>,\n",
       " <img src=\"../img/gifts/img4.jpg\"/>,\n",
       " <img src=\"../img/gifts/img6.jpg\"/>]"
      ]
     },
     "execution_count": 68,
     "metadata": {},
     "output_type": "execute_result"
    }
   ],
   "source": [
    "dom.select('tr > td:nth-of-type(4) img[src$=jpg]')\n",
    "#jpg로 끝나는 것들!"
   ]
  },
  {
   "cell_type": "code",
   "execution_count": 70,
   "id": "ca1677fe",
   "metadata": {},
   "outputs": [
    {
     "data": {
      "text/plain": [
       "[<img src=\"../img/gifts/img1.jpg\"/>,\n",
       " <img src=\"../img/gifts/img2.jpg\"/>,\n",
       " <img src=\"../img/gifts/img3.jpg\"/>,\n",
       " <img src=\"../img/gifts/img4.jpg\"/>,\n",
       " <img src=\"../img/gifts/img6.jpg\"/>]"
      ]
     },
     "execution_count": 70,
     "metadata": {},
     "output_type": "execute_result"
    }
   ],
   "source": [
    "dom.select('tr > td:nth-of-type(4) img[src^..]')\n",
    "#..으로 시작하는 것들! ..은 시작, $는 끝. 정규식 공부해야겟다.."
   ]
  },
  {
   "cell_type": "code",
   "execution_count": 85,
   "id": "ecc5e45b",
   "metadata": {},
   "outputs": [],
   "source": [
    "#dom.select('#id, .class')\n",
    "#print(dom.select('#gift1'))\n",
    "#print(dom.select('.gift'))\n",
    "\n",
    "#이렇게 아이디로 지칭 할 수도 있다!,"
   ]
  },
  {
   "cell_type": "markdown",
   "id": "ce10d238",
   "metadata": {},
   "source": [
    "----"
   ]
  },
  {
   "cell_type": "markdown",
   "id": "918724f9",
   "metadata": {},
   "source": [
    "#### 다시 구글예제"
   ]
  },
  {
   "cell_type": "code",
   "execution_count": 78,
   "id": "0222fa2a",
   "metadata": {},
   "outputs": [],
   "source": [
    "url=\"https://www.google.com/search\"\n",
    "\n",
    "params={\n",
    "    'q': '파이썬',\n",
    "    'sxsrf': ['ALeKk00ScoS2gY7pKq0OfxU1EkR0PJYAWw:1625636037642'],\n",
    "    'source': ['hp'],\n",
    "    'ei': ['xTzlYJPwJI6Yr7wPptm3oA4'],\n",
    "    'iflsig': ['AINFCbYAAAAAYOVK1XL-vM1Ln6db_dCPZoRxqRKHO10p'],\n",
    "    'oq': ['파이썬'],\n",
    "    'gs_lcp': ['Cgdnd3Mtd2l6EAMyBAgjECcyBAgjECcyBAgjECcyBAgAEEMyBAgAEEMyBAgAEEMyBAgAEEMyBQgAELEDMgQIABBDMggIABCxAxCDAToHCCMQ6gIQJzoECAAQCjoCCABQ6ARY7g5gghBoBHAAeAKAAagBiAHPB5IBAzAuN5gBAKABAaoBB2d3cy13aXqwAQo'],\n",
    "    'sclient': ['gws-wiz'],\n",
    "    'ved': ['0ahUKEwjT5riUntDxAhUOzIsBHabsDeQQ4dUDCAc'],\n",
    "    'uact': ['5']\n",
    "    \n",
    "}\n",
    "\n",
    "resp=download(url,params, header, 'GET')"
   ]
  },
  {
   "cell_type": "code",
   "execution_count": 80,
   "id": "d9744eee",
   "metadata": {},
   "outputs": [],
   "source": [
    "dom=BeautifulSoup(resp.text, 'html5lib')"
   ]
  },
  {
   "cell_type": "code",
   "execution_count": 83,
   "id": "76191eb1",
   "metadata": {},
   "outputs": [
    {
     "data": {
      "text/plain": [
       "(12, 8, 8)"
      ]
     },
     "execution_count": 83,
     "metadata": {},
     "output_type": "execute_result"
    }
   ],
   "source": [
    "len(dom.select('h3')), len(dom.select('h3.LC20lb')), len(dom.select('h3.LC20lb.DKV0Md'))"
   ]
  },
  {
   "cell_type": "code",
   "execution_count": 84,
   "id": "fedab405",
   "metadata": {},
   "outputs": [
    {
     "data": {
      "text/plain": [
       "8"
      ]
     },
     "execution_count": 84,
     "metadata": {},
     "output_type": "execute_result"
    }
   ],
   "source": [
    "len(dom.select('br + h3'))\n",
    "#br 태그 옆에 h3 가 있으면! 근데 이게 검색결과다"
   ]
  },
  {
   "cell_type": "code",
   "execution_count": 88,
   "id": "4ac13049",
   "metadata": {},
   "outputs": [
    {
     "name": "stdout",
     "output_type": "stream",
     "text": [
      "파이썬 자습서 — Python 3.9.6 문서\n",
      "https://docs.python.org/ko/3/tutorial/index.html\n",
      "파이썬 - 위키백과, 우리 모두의 백과사전\n",
      "https://ko.wikipedia.org/wiki/%ED%8C%8C%EC%9D%B4%EC%8D%AC\n",
      "Python - 나무위키\n",
      "https://namu.wiki/w/Python\n",
      "1 파이썬 시작하기 - 왕초보를 위한 Python: 쉽게 풀어 쓴 기초 ...\n",
      "https://wikidocs.net/43\n",
      "Python - 파이썬이란? - 코딩의 시작, TCP School\n",
      "http://tcpschool.com/python/intro\n",
      "모두를 위한 프로그래밍 : 파이썬 강좌소개 : edwith\n",
      "https://www.edwith.org/pythonforeverybody\n",
      "1 장 파이썬(Python) 입문 | 파이썬 프로그래밍 기초\n",
      "http://bigdata.dongguk.ac.kr/lectures/Python/_book/%ED%8C%8C%EC%9D%B4%EC%8D%AC%EC%9E%85%EB%AC%B8.html\n",
      "파이썬을 파이썬답게 | 프로그래머스\n",
      "https://programmers.co.kr/learn/courses/4008\n"
     ]
    }
   ],
   "source": [
    "for _ in dom.select('br + h3'):\n",
    "    print(_.text.strip())\n",
    "    print(_.find_parent().attrs['href'])"
   ]
  },
  {
   "cell_type": "code",
   "execution_count": null,
   "id": "5a66fff2",
   "metadata": {},
   "outputs": [],
   "source": [
    "css selector 을 이용하면 아까보다 훨씬 간단하게 쓸 수 있다! 대박적"
   ]
  },
  {
   "cell_type": "markdown",
   "id": "4e19152a",
   "metadata": {},
   "source": [
    "----------"
   ]
  },
  {
   "cell_type": "markdown",
   "id": "822838dd",
   "metadata": {},
   "source": [
    "### 다시 네이버 예제"
   ]
  },
  {
   "cell_type": "code",
   "execution_count": 92,
   "id": "2fda8b47",
   "metadata": {},
   "outputs": [
    {
     "data": {
      "text/plain": [
       "{'where': ['nexearch'],\n",
       " 'sm': ['top_hty'],\n",
       " 'fbm': ['1'],\n",
       " 'ie': ['utf8'],\n",
       " 'query': ['통영여행']}"
      ]
     },
     "execution_count": 92,
     "metadata": {},
     "output_type": "execute_result"
    }
   ],
   "source": [
    "url = 'https://search.naver.com/search.naver'\n",
    "parse.parse_qs('where=nexearch&sm=top_hty&fbm=1&ie=utf8&query=%ED%86%B5%EC%98%81%EC%97%AC%ED%96%89')"
   ]
  },
  {
   "cell_type": "code",
   "execution_count": 95,
   "id": "174385b4",
   "metadata": {},
   "outputs": [],
   "source": [
    "url = 'https://search.naver.com/search.naver'\n",
    "\n",
    "params = {\n",
    "    'where': ['nexearch'],\n",
    "    'sm': ['top_hty'],\n",
    "    'fbm': ['1'],\n",
    "    'ie': ['utf8'],\n",
    "    'query': ['통영여행']\n",
    "}\n",
    "\n",
    "resp=download(url,params, header, 'GET')"
   ]
  },
  {
   "cell_type": "code",
   "execution_count": 96,
   "id": "117d66c4",
   "metadata": {},
   "outputs": [],
   "source": [
    "dom=BeautifulSoup(resp.text, 'html5lib')"
   ]
  },
  {
   "cell_type": "code",
   "execution_count": 100,
   "id": "cc98004c",
   "metadata": {},
   "outputs": [
    {
     "name": "stdout",
     "output_type": "stream",
     "text": [
      "통영 여행 놀거리 아라마린서비스 요트투어\n",
      "https://blog.naver.com/obh1680/222398983097\n",
      "거제 통영 여행 외도 포함 내품 핫플 코스\n",
      "https://blog.naver.com/lightsout/222288330327\n",
      "통영 여행코스 갈만한곳 이순신공원 바다 전망\n",
      "https://blog.naver.com/suk4408/222338705742\n",
      "거제 통영 여행 코스 서호시장부터 동피랑벽화마을까지\n",
      "https://blog.naver.com/bada3347/222360711590\n",
      "통영 여행코스 이순신공원, 통영 서피랑마을까지\n",
      "https://blog.naver.com/hnmh2332/222313684322\n",
      "국내 1박2일 통영 여행 디피랑 서피랑 동피랑 벽화마을 이순신공원\n",
      "https://blog.naver.com/hloveh01/222386234715\n",
      "거제 통영 여행 코스 통영 이순신공원 등 1박2일 여행지\n",
      "https://blog.naver.com/ultrabat/222362354570\n",
      "통영 가볼만한곳 이순신공원 통영 여행코스\n",
      "https://blog.naver.com/jyleen/222342610447\n",
      "아이와 비오는 통영여행 3박 4일 코스\n",
      "https://blog.naver.com/sidna/222358406013\n"
     ]
    }
   ],
   "source": [
    "for _ in dom.select('.api_txt_lines.total_tit'):\n",
    "    print(_.text.strip())\n",
    "    print(_.attrs['href'])"
   ]
  },
  {
   "cell_type": "markdown",
   "id": "ac572be9",
   "metadata": {},
   "source": [
    "----"
   ]
  },
  {
   "cell_type": "markdown",
   "id": "aa38e2c4",
   "metadata": {},
   "source": [
    "이제 진짜 크롤러 만들시간!!!\n",
    "\n",
    "링크는 다양하다: 절대주소, 상대주소, 자바스크립트.. 그래서 노멀라이즈 해야한다!\n",
    "그걸 가지고 필터링을 한다\n",
    "한번 간 링크는 다시 갈 필요가 없다. 한번이라도 방문을 했으면 skip\n",
    "\n",
    "크롤링/스크래핑\n",
    "크롤링: 외부작업\n",
    "스크래핑: 내부작업"
   ]
  },
  {
   "cell_type": "markdown",
   "id": "4a8d7b88",
   "metadata": {},
   "source": [
    "서치스페이스가 너무 넓으면 뭐부터 하냐?\n",
    "bfs dfs\n",
    "얘네를 적절히 섞은 focused crawling"
   ]
  },
  {
   "cell_type": "code",
   "execution_count": null,
   "id": "98c06ba0",
   "metadata": {},
   "outputs": [],
   "source": []
  },
  {
   "cell_type": "code",
   "execution_count": null,
   "id": "eeb3c3fb",
   "metadata": {},
   "outputs": [],
   "source": []
  },
  {
   "cell_type": "code",
   "execution_count": null,
   "id": "de93aef9",
   "metadata": {},
   "outputs": [],
   "source": []
  },
  {
   "cell_type": "code",
   "execution_count": null,
   "id": "3edf6747",
   "metadata": {},
   "outputs": [],
   "source": []
  },
  {
   "cell_type": "code",
   "execution_count": null,
   "id": "4b316100",
   "metadata": {},
   "outputs": [],
   "source": []
  },
  {
   "cell_type": "code",
   "execution_count": null,
   "id": "21cfb4ed",
   "metadata": {},
   "outputs": [],
   "source": []
  },
  {
   "cell_type": "code",
   "execution_count": null,
   "id": "227e9c68",
   "metadata": {},
   "outputs": [],
   "source": []
  },
  {
   "cell_type": "code",
   "execution_count": null,
   "id": "ebfb77bd",
   "metadata": {},
   "outputs": [],
   "source": []
  },
  {
   "cell_type": "code",
   "execution_count": null,
   "id": "d14808b6",
   "metadata": {},
   "outputs": [],
   "source": []
  },
  {
   "cell_type": "code",
   "execution_count": null,
   "id": "6ae7f10f",
   "metadata": {},
   "outputs": [],
   "source": []
  },
  {
   "cell_type": "code",
   "execution_count": null,
   "id": "c1dbe9cd",
   "metadata": {},
   "outputs": [],
   "source": []
  },
  {
   "cell_type": "code",
   "execution_count": null,
   "id": "feb3f3c2",
   "metadata": {},
   "outputs": [],
   "source": []
  },
  {
   "cell_type": "code",
   "execution_count": null,
   "id": "2711296c",
   "metadata": {},
   "outputs": [],
   "source": []
  },
  {
   "cell_type": "code",
   "execution_count": null,
   "id": "ae9d9a04",
   "metadata": {},
   "outputs": [],
   "source": []
  },
  {
   "cell_type": "code",
   "execution_count": null,
   "id": "a2a7d0b0",
   "metadata": {},
   "outputs": [],
   "source": []
  },
  {
   "cell_type": "code",
   "execution_count": null,
   "id": "b54a401e",
   "metadata": {},
   "outputs": [],
   "source": []
  },
  {
   "cell_type": "code",
   "execution_count": null,
   "id": "8361e791",
   "metadata": {},
   "outputs": [],
   "source": []
  },
  {
   "cell_type": "code",
   "execution_count": null,
   "id": "dfa25332",
   "metadata": {},
   "outputs": [],
   "source": []
  },
  {
   "cell_type": "code",
   "execution_count": null,
   "id": "3761b5a7",
   "metadata": {},
   "outputs": [],
   "source": []
  },
  {
   "cell_type": "code",
   "execution_count": null,
   "id": "93e3a69b",
   "metadata": {},
   "outputs": [],
   "source": []
  },
  {
   "cell_type": "code",
   "execution_count": null,
   "id": "c40cc9a9",
   "metadata": {},
   "outputs": [],
   "source": []
  },
  {
   "cell_type": "code",
   "execution_count": null,
   "id": "8a918134",
   "metadata": {},
   "outputs": [],
   "source": []
  },
  {
   "cell_type": "code",
   "execution_count": null,
   "id": "d0477169",
   "metadata": {},
   "outputs": [],
   "source": []
  }
 ],
 "metadata": {
  "kernelspec": {
   "display_name": "Python 3",
   "language": "python",
   "name": "python3"
  },
  "language_info": {
   "codemirror_mode": {
    "name": "ipython",
    "version": 3
   },
   "file_extension": ".py",
   "mimetype": "text/x-python",
   "name": "python",
   "nbconvert_exporter": "python",
   "pygments_lexer": "ipython3",
   "version": "3.8.8"
  }
 },
 "nbformat": 4,
 "nbformat_minor": 5
}
