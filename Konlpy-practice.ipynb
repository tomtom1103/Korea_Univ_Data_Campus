{
 "cells": [
  {
   "cell_type": "code",
   "execution_count": 4,
   "id": "55446f29",
   "metadata": {},
   "outputs": [],
   "source": [
    "from konlpy.tag import Kkma\n",
    "from konlpy.utils import pprint"
   ]
  },
  {
   "cell_type": "code",
   "execution_count": 5,
   "id": "7aeb770f",
   "metadata": {},
   "outputs": [],
   "source": [
    "kkma = Kkma()"
   ]
  },
  {
   "cell_type": "code",
   "execution_count": 6,
   "id": "c4b9ecae",
   "metadata": {},
   "outputs": [
    {
     "name": "stdout",
     "output_type": "stream",
     "text": [
      "['네, 안녕하세요.', '반갑습니다.']\n"
     ]
    }
   ],
   "source": [
    "pprint(kkma.sentences(u'네, 안녕하세요. 반갑습니다.'))"
   ]
  },
  {
   "cell_type": "markdown",
   "id": "ef109d4e",
   "metadata": {},
   "source": [
    "-------"
   ]
  },
  {
   "cell_type": "code",
   "execution_count": null,
   "id": "4f98f73e",
   "metadata": {},
   "outputs": [],
   "source": [
    "seed_list = list ()\n",
    "seed_list.append('https://news.naver.com/')\n",
    "\n",
    "seen_list = list ()\n",
    "\n",
    "while seed_list:\n",
    "    seed = seed_list.pop(0)\n",
    "    \n",
    "    resp = download(seed, headers=headers)\n",
    "    \n",
    "    #Scrapping 영역\n",
    "    #뉴스만 가져올 것이다\n",
    "    if not re.search(r'text/html',resp.headers['Content-type'.lower()]):         #뉴스가 아니면 날려주기\n",
    "        continue\n",
    "        \n",
    "    dom = BeautifulSoup(resp.text, 'lxml')\n",
    "    \n",
    "    main_area = dom.select_one('#main_content')                    #링크 수집    \n",
    "    \n",
    "    if not main_area:\n",
    "        continue\n",
    "        \n",
    "    #뉴스기사에만 해당 되는 애들 가져오기. \"구조\" 활용\n",
    "    news_list = main_area.select('li > a[href], li > div > a[href]') \n",
    "    \n",
    "    # main body에 id 가 존재하였다\n",
    "    \n",
    "    article_area = dom.select_one('#articleBodyContents')\n",
    "    \n",
    "    if article_area:\n",
    "        file_name = re.sub(r'\\W','',seed.split('/')[-1])           #파일 명에 의미 없는 것 삭제 \n",
    "        \n",
    "        with open('TXT/'+file_name+'.txt','w',encoding='utf-8') as f:\n",
    "            f.write(article_area.text)                                  #Scrapping은 여기서 끝난다.\n",
    "        \n",
    "    \n",
    "    # — 크롤러 역할. 링크를 새로 찾고 추가해주는\n",
    "    for link in news_list:        \n",
    "        link = urljoin(seed, link.attrs['href'])\n",
    "        if link not in seed_list and link not in seen_list:    \n",
    "                seed_list.append(link)            \n",
    "        \n",
    "    \n",
    "    seed_list.append(seed)\n",
    "\n",
    "#TXT 폴더에 저장되었다."
   ]
  },
  {
   "cell_type": "markdown",
   "id": "8f4056d6",
   "metadata": {},
   "source": [
    "-------"
   ]
  },
  {
   "cell_type": "code",
   "execution_count": null,
   "id": "1e01282a",
   "metadata": {},
   "outputs": [],
   "source": [
    "P(A,B,C,D,E,F) = P(A|B,C,D,E,F)P(B|C,D,E,F)P(C|D,E,F)P(D|E,F)P(E|F)P(F)\n",
    "\n",
    "Markov Asuumption (1st) = Bi-gram\n",
    "                ~= P(A|B)P(B|C)P(C|D)P(D|E)P(E|F)P(F)\n",
    "                ~= ㅠP(이전,사건)/P(이전)\n",
    "        \n",
    "계산하기 편하게 이렇게 assumption 을 만드는 것이다!\n",
    "\n",
    "결합확률 = 조건부확률 개별확률(결합확률)\n",
    "P(A,B)=P(A|B)P(B)\n",
    "P(한|대)=count('대한')/count('대')\n",
    "P(민|한)=count('한민')/count('한')\n",
    "\n"
   ]
  },
  {
   "cell_type": "code",
   "execution_count": 18,
   "id": "ce6274fc",
   "metadata": {},
   "outputs": [],
   "source": [
    "from os import listdir\n",
    "import re\n",
    "\n",
    "def cleaning(data):\n",
    "    data = re.sub(r'\\b[a-z_][a-zA-Z_()]{4,}\\b', '', data)\n",
    "    # 1. 사이드 스페이스가 있을 때 반드시 소문자+_  1글자로 시작, 영문(대소문자 포함) 4글자 이상 삭제 => 제일 뒷줄의 javascript 제거\n",
    "    data = re.sub(r'\\b[(){}/]{2,}', '', data)\n",
    "    # 2. 함수 기호 삭제 => () {} 제거\n",
    "    data = re.sub(r'([.,?!])(\\w)', '\\g<1> \\g<2>', data)\n",
    "    # 3. 구두점 다음에 글자가 있는 경우 공백 추가 => .단어 => . 단어로 변경\n",
    "    data = re.sub(r'\\s{2,}', '\\n', data).strip()\n",
    "    # 4. 공백 2개 이상 반복되는 경우 한 개만 => \\n\\n\\n\\n\\n 또는      =>\\n 또는 \n",
    "    data = re.sub(r'[^\\s\\w\\d.,?!:\\'\\\"]', '', data)\n",
    "    # 5. 공백, 문자, 숫자, 구두점을 제외한 나머지 글자 삭제 => 모든 특수문자 제거\n",
    "    data ='\\n'.join(data.splitlines()[1:])\n",
    "    # * 네이버에서 수집한 뉴스는 첫 줄에 주석이 달려있음 => 첫 줄 주석 삭제\n",
    "    return data\n",
    "\n",
    "corpus = list()\n",
    "for file in listdir('./TXT'):\n",
    "    with open ('./TXT/'+file, 'rt', encoding='UTF8') as f:\n",
    "        corpus.append(cleaning(f.read()))\n",
    "        \n",
    "data = ' '.join(corpus)"
   ]
  },
  {
   "cell_type": "code",
   "execution_count": 19,
   "id": "9b086548",
   "metadata": {},
   "outputs": [
    {
     "data": {
      "text/plain": [
       "(4473, 6990, 30153, 48)"
      ]
     },
     "execution_count": 19,
     "metadata": {},
     "output_type": "execute_result"
    }
   ],
   "source": [
    "len(set (data. split())), len (data. split()), len (data), len(listdir('./TXT'))"
   ]
  },
  {
   "cell_type": "code",
   "execution_count": null,
   "id": "e0a67cbd",
   "metadata": {},
   "outputs": [],
   "source": [
    "Zipf's law => TF - IDF\n",
    "한글형태소분석기 = KoNLPy"
   ]
  },
  {
   "cell_type": "code",
   "execution_count": null,
   "id": "b3171d0e",
   "metadata": {},
   "outputs": [],
   "source": [
    "Ngram 만드는 코드"
   ]
  },
  {
   "cell_type": "code",
   "execution_count": 54,
   "id": "b97e2110",
   "metadata": {},
   "outputs": [],
   "source": [
    "from collections import defaultdict\n",
    "\n",
    "def ngram_umjeol (s, N=2) :\n",
    "    rst = list ()\n",
    "    for i in range (len(s)-1):\n",
    "        rst. append (s[i: i+N])\n",
    "    return rst\n",
    "\n",
    "\n",
    "unigram = defaultdict(int)\n",
    "for t in data.split ():\n",
    "    for token in ngram_umjeol(t,1):\n",
    "        unigram[token] += 1\n",
    "\n",
    "bigram = defaultdict(int)\n",
    "for t in data.split ():\n",
    "    for token in ngram_umjeol(t):\n",
    "        bigram[token] += 1\n",
    "        \n",
    "trigram = defaultdict(int)\n",
    "for t in data.split ():\n",
    "    for token in ngram_umjeol(t,3):\n",
    "        trigram[token] += 1"
   ]
  },
  {
   "cell_type": "code",
   "execution_count": 51,
   "id": "84f61016",
   "metadata": {},
   "outputs": [
    {
     "data": {
      "text/plain": [
       "(16117, 5576, 16117, 757, 16117, 8215)"
      ]
     },
     "execution_count": 51,
     "metadata": {},
     "output_type": "execute_result"
    }
   ],
   "source": [
    "sum(bigram.values()), len(bigram), sum(unigram.values()), len(unigram),\\\n",
    "sum(trigram.values()), len(trigram)"
   ]
  },
  {
   "cell_type": "markdown",
   "id": "198765ce",
   "metadata": {},
   "source": [
    "P(A,B) = freq(Bigram)/freq(Unigram) => 1st markov assumption\n",
    "우린 이렇게 쓸거다!!\n",
    "우린 유니그램 프리퀀시와 바이그램 프리퀀시 둘다 필요하다\n",
    "근데 앞에서 만들어놨다~"
   ]
  },
  {
   "cell_type": "code",
   "execution_count": 57,
   "id": "a9ae54ad",
   "metadata": {},
   "outputs": [
    {
     "ename": "ZeroDivisionError",
     "evalue": "division by zero",
     "output_type": "error",
     "traceback": [
      "\u001b[0;31m---------------------------------------------------------------------------\u001b[0m",
      "\u001b[0;31mZeroDivisionError\u001b[0m                         Traceback (most recent call last)",
      "\u001b[0;32m<ipython-input-57-91bdec2a786f>\u001b[0m in \u001b[0;36m<module>\u001b[0;34m\u001b[0m\n\u001b[1;32m      7\u001b[0m     \u001b[0;32mfor\u001b[0m \u001b[0mk\u001b[0m \u001b[0;32min\u001b[0m \u001b[0;34m[\u001b[0m\u001b[0m_\u001b[0m \u001b[0;32mfor\u001b[0m \u001b[0m_\u001b[0m \u001b[0;32min\u001b[0m \u001b[0mbigram\u001b[0m\u001b[0;34m.\u001b[0m\u001b[0mkeys\u001b[0m\u001b[0;34m(\u001b[0m\u001b[0;34m)\u001b[0m \u001b[0;32mif\u001b[0m \u001b[0m_\u001b[0m\u001b[0;34m.\u001b[0m\u001b[0mstartswith\u001b[0m\u001b[0;34m(\u001b[0m\u001b[0mstart\u001b[0m\u001b[0;34m)\u001b[0m\u001b[0;34m]\u001b[0m\u001b[0;34m:\u001b[0m\u001b[0;34m\u001b[0m\u001b[0;34m\u001b[0m\u001b[0m\n\u001b[1;32m      8\u001b[0m         \u001b[0mfreq2\u001b[0m \u001b[0;34m=\u001b[0m \u001b[0mtrigram\u001b[0m\u001b[0;34m[\u001b[0m\u001b[0mk\u001b[0m\u001b[0;34m]\u001b[0m\u001b[0;34m\u001b[0m\u001b[0;34m\u001b[0m\u001b[0m\n\u001b[0;32m----> 9\u001b[0;31m         \u001b[0mprob\u001b[0m \u001b[0;34m=\u001b[0m \u001b[0mfreq2\u001b[0m\u001b[0;34m/\u001b[0m\u001b[0mfreq1\u001b[0m\u001b[0;34m\u001b[0m\u001b[0;34m\u001b[0m\u001b[0m\n\u001b[0m\u001b[1;32m     10\u001b[0m         \u001b[0;31m#print(k, freq2/freq1)\u001b[0m\u001b[0;34m\u001b[0m\u001b[0;34m\u001b[0m\u001b[0;34m\u001b[0m\u001b[0m\n\u001b[1;32m     11\u001b[0m         \u001b[0;32mif\u001b[0m \u001b[0mmaxfreq\u001b[0m\u001b[0;34m<\u001b[0m\u001b[0mprob\u001b[0m\u001b[0;34m:\u001b[0m\u001b[0;34m\u001b[0m\u001b[0;34m\u001b[0m\u001b[0m\n",
      "\u001b[0;31mZeroDivisionError\u001b[0m: division by zero"
     ]
    }
   ],
   "source": [
    "start = '대'\n",
    "\n",
    "for _ in range(10): #10개의 음절을 생성(예측 by bigram language model)\n",
    "    freq1 = bigram[start]\n",
    "    maxfreq = 0.0\n",
    "    \n",
    "    for k in [_ for _ in bigram.keys() if _.startswith(start)]:\n",
    "        freq2 = trigram[k]\n",
    "        prob = freq2/freq1\n",
    "        #print(k, freq2/freq1)\n",
    "        if maxfreq<prob:\n",
    "            print(start, k, prob)\n",
    "            maxfreq = prob\n",
    "            start = k[-2:]\n",
    "    print()"
   ]
  },
  {
   "cell_type": "markdown",
   "id": "88d8302d",
   "metadata": {},
   "source": [
    "----------"
   ]
  },
  {
   "cell_type": "code",
   "execution_count": null,
   "id": "d7ea25fd",
   "metadata": {},
   "outputs": [],
   "source": [
    "점심먹고왔따!"
   ]
  },
  {
   "cell_type": "markdown",
   "id": "4aab71ae",
   "metadata": {},
   "source": [
    "-----"
   ]
  },
  {
   "cell_type": "code",
   "execution_count": null,
   "id": "c84c7e39",
   "metadata": {},
   "outputs": [],
   "source": [
    "한국말은 굴절어의 특징을 갖는다\n",
    "어미의 활용이 다양하다!\n",
    "어근, 어간, 형태소 + 어미\n",
    "밥 을/도/()/ +먹(다)+었+어 등등..\n",
    "\n",
    "영어같은경우는 위치가 결정되어있지만 한국어는 접사에 대한 정보가 더 중요하다\n",
    "접사에 따라 품사가 결정되고, 문장 성분내에 어떤 역할을 하는지도 결정된다\n",
    "거기다 띄어쓰기도 있고..\n",
    "\n",
    "이런 형태때문에 형태소를 띄어내야 하고, 원형을 복원해야하기도 하고..\n",
    "stemming, lemmatization\n",
    "-> 토큰화를 하는거다!\n",
    "\n",
    "자연어를 가지고 feature 형태로 삼으려면 적절한 크기와 형태의 피쳐들이 필요한데,\n",
    "이 방법을 토크나이징이라고 부른다 - stemming, lemmatization, ngram byte pair encoding 이 여기 속한다\n",
    "\n",
    "토크나이징 - 인덱싱 - vocabulary(UNK)\n",
    "\n",
    "LM = N-gram =>tokenizing(음절, 어절)"
   ]
  },
  {
   "cell_type": "code",
   "execution_count": 63,
   "id": "287d181d",
   "metadata": {},
   "outputs": [],
   "source": [
    "from konlpy.tag import Kkma, Komoran, Hannanum, Okt, Mecab"
   ]
  },
  {
   "cell_type": "code",
   "execution_count": 64,
   "id": "2280e447",
   "metadata": {
    "collapsed": true
   },
   "outputs": [
    {
     "data": {
      "text/plain": [
       "{'Adjective': '형용사',\n",
       " 'Adverb': '부사',\n",
       " 'Alpha': '알파벳',\n",
       " 'Conjunction': '접속사',\n",
       " 'Determiner': '관형사',\n",
       " 'Eomi': '어미',\n",
       " 'Exclamation': '감탄사',\n",
       " 'Foreign': '외국어, 한자 및 기타기호',\n",
       " 'Hashtag': '트위터 해쉬태그',\n",
       " 'Josa': '조사',\n",
       " 'KoreanParticle': '(ex: ㅋㅋ)',\n",
       " 'Noun': '명사',\n",
       " 'Number': '숫자',\n",
       " 'PreEomi': '선어말어미',\n",
       " 'Punctuation': '구두점',\n",
       " 'ScreenName': '트위터 아이디',\n",
       " 'Suffix': '접미사',\n",
       " 'Unknown': '미등록어',\n",
       " 'Verb': '동사'}"
      ]
     },
     "execution_count": 64,
     "metadata": {},
     "output_type": "execute_result"
    }
   ],
   "source": [
    "okt = Okt()\n",
    "okt.tagset"
   ]
  },
  {
   "cell_type": "code",
   "execution_count": 65,
   "id": "c63ba3d1",
   "metadata": {
    "collapsed": true
   },
   "outputs": [
    {
     "data": {
      "text/plain": [
       "{'EC': '연결 어미',\n",
       " 'ECD': '의존적 연결 어미',\n",
       " 'ECE': '대등 연결 어미',\n",
       " 'ECS': '보조적 연결 어미',\n",
       " 'EF': '종결 어미',\n",
       " 'EFA': '청유형 종결 어미',\n",
       " 'EFI': '감탄형 종결 어미',\n",
       " 'EFN': '평서형 종결 어미',\n",
       " 'EFO': '명령형 종결 어미',\n",
       " 'EFQ': '의문형 종결 어미',\n",
       " 'EFR': '존칭형 종결 어미',\n",
       " 'EP': '선어말 어미',\n",
       " 'EPH': '존칭 선어말 어미',\n",
       " 'EPP': '공손 선어말 어미',\n",
       " 'EPT': '시제 선어말 어미',\n",
       " 'ET': '전성 어미',\n",
       " 'ETD': '관형형 전성 어미',\n",
       " 'ETN': '명사형 전성 어미',\n",
       " 'IC': '감탄사',\n",
       " 'JC': '접속 조사',\n",
       " 'JK': '조사',\n",
       " 'JKC': '보격 조사',\n",
       " 'JKG': '관형격 조사',\n",
       " 'JKI': '호격 조사',\n",
       " 'JKM': '부사격 조사',\n",
       " 'JKO': '목적격 조사',\n",
       " 'JKQ': '인용격 조사',\n",
       " 'JKS': '주격 조사',\n",
       " 'JX': '보조사',\n",
       " 'MA': '부사',\n",
       " 'MAC': '접속 부사',\n",
       " 'MAG': '일반 부사',\n",
       " 'MD': '관형사',\n",
       " 'MDN': '수 관형사',\n",
       " 'MDT': '일반 관형사',\n",
       " 'NN': '명사',\n",
       " 'NNB': '일반 의존 명사',\n",
       " 'NNG': '보통명사',\n",
       " 'NNM': '단위 의존 명사',\n",
       " 'NNP': '고유명사',\n",
       " 'NP': '대명사',\n",
       " 'NR': '수사',\n",
       " 'OH': '한자',\n",
       " 'OL': '외국어',\n",
       " 'ON': '숫자',\n",
       " 'SE': '줄임표',\n",
       " 'SF': '마침표, 물음표, 느낌표',\n",
       " 'SO': '붙임표(물결,숨김,빠짐)',\n",
       " 'SP': '쉼표,가운뎃점,콜론,빗금',\n",
       " 'SS': '따옴표,괄호표,줄표',\n",
       " 'SW': '기타기호 (논리수학기호,화폐기호)',\n",
       " 'UN': '명사추정범주',\n",
       " 'VA': '형용사',\n",
       " 'VC': '지정사',\n",
       " 'VCN': \"부정 지정사, 형용사 '아니다'\",\n",
       " 'VCP': \"긍정 지정사, 서술격 조사 '이다'\",\n",
       " 'VV': '동사',\n",
       " 'VX': '보조 용언',\n",
       " 'VXA': '보조 형용사',\n",
       " 'VXV': '보조 동사',\n",
       " 'XP': '접두사',\n",
       " 'XPN': '체언 접두사',\n",
       " 'XPV': '용언 접두사',\n",
       " 'XR': '어근',\n",
       " 'XSA': '형용사 파생 접미사',\n",
       " 'XSN': '명사파생 접미사',\n",
       " 'XSV': '동사 파생 접미사'}"
      ]
     },
     "execution_count": 65,
     "metadata": {},
     "output_type": "execute_result"
    }
   ],
   "source": [
    "kkma = Kkma()\n",
    "kkma.tagset"
   ]
  },
  {
   "cell_type": "code",
   "execution_count": null,
   "id": "7cc8364e",
   "metadata": {},
   "outputs": [],
   "source": [
    "꼬꼬마는 서울대에서 만든거, 더 자세하고 더 느리다!"
   ]
  },
  {
   "cell_type": "code",
   "execution_count": 67,
   "id": "c5d7fe7a",
   "metadata": {},
   "outputs": [],
   "source": [
    "han = Hannanum()\n",
    "kom = Komoran()"
   ]
  },
  {
   "cell_type": "code",
   "execution_count": 68,
   "id": "4376996b",
   "metadata": {},
   "outputs": [
    {
     "data": {
      "text/plain": [
       "([('아버지', 'Noun'),\n",
       "  ('가방', 'Noun'),\n",
       "  ('에', 'Josa'),\n",
       "  ('들어가신다', 'Verb'),\n",
       "  ('.', 'Punctuation')],\n",
       " [('아버지', 'NNG'),\n",
       "  ('가방', 'NNG'),\n",
       "  ('에', 'JKM'),\n",
       "  ('들어가', 'VV'),\n",
       "  ('시', 'EPH'),\n",
       "  ('ㄴ다', 'EFN'),\n",
       "  ('.', 'SF')],\n",
       " [('아버지가방에들어가', 'N'), ('이', 'J'), ('시ㄴ다', 'E'), ('.', 'S')],\n",
       " [('아버지', 'NNG'),\n",
       "  ('가방', 'NNP'),\n",
       "  ('에', 'JKB'),\n",
       "  ('들어가', 'VV'),\n",
       "  ('시', 'EP'),\n",
       "  ('ㄴ다', 'EF'),\n",
       "  ('.', 'SF')])"
      ]
     },
     "execution_count": 68,
     "metadata": {},
     "output_type": "execute_result"
    }
   ],
   "source": [
    "s = '아버지가방에들어가신다.'\n",
    "okt.pos(s)"
   ]
  },
  {
   "cell_type": "code",
   "execution_count": 69,
   "id": "1b0edc4f",
   "metadata": {},
   "outputs": [
    {
     "data": {
      "text/plain": [
       "[('아버지', 'NNG'),\n",
       " ('가방', 'NNG'),\n",
       " ('에', 'JKM'),\n",
       " ('들어가', 'VV'),\n",
       " ('시', 'EPH'),\n",
       " ('ㄴ다', 'EFN'),\n",
       " ('.', 'SF')]"
      ]
     },
     "execution_count": 69,
     "metadata": {},
     "output_type": "execute_result"
    }
   ],
   "source": [
    "kkma.pos(s)"
   ]
  },
  {
   "cell_type": "code",
   "execution_count": 70,
   "id": "5f17b432",
   "metadata": {},
   "outputs": [
    {
     "data": {
      "text/plain": [
       "[('아버지가방에들어가', 'N'), ('이', 'J'), ('시ㄴ다', 'E'), ('.', 'S')]"
      ]
     },
     "execution_count": 70,
     "metadata": {},
     "output_type": "execute_result"
    }
   ],
   "source": [
    "han.pos(s)"
   ]
  },
  {
   "cell_type": "code",
   "execution_count": 71,
   "id": "9bcd8937",
   "metadata": {},
   "outputs": [
    {
     "data": {
      "text/plain": [
       "[('아버지', 'NNG'),\n",
       " ('가방', 'NNP'),\n",
       " ('에', 'JKB'),\n",
       " ('들어가', 'VV'),\n",
       " ('시', 'EP'),\n",
       " ('ㄴ다', 'EF'),\n",
       " ('.', 'SF')]"
      ]
     },
     "execution_count": 71,
     "metadata": {},
     "output_type": "execute_result"
    }
   ],
   "source": [
    "kom.pos(s)"
   ]
  },
  {
   "cell_type": "code",
   "execution_count": null,
   "id": "a093c60c",
   "metadata": {},
   "outputs": [],
   "source": [
    "형태소분석기 중 꼬꼬마가 제일 좋고, 한나눔이 제일 별로고, 오케이티가 제일 무난하다!\n"
   ]
  },
  {
   "cell_type": "code",
   "execution_count": 83,
   "id": "8c2e26fb",
   "metadata": {},
   "outputs": [],
   "source": [
    "from konlpy.corpus import kolaw"
   ]
  },
  {
   "cell_type": "code",
   "execution_count": 73,
   "id": "5b92b243",
   "metadata": {},
   "outputs": [
    {
     "data": {
      "text/plain": [
       "<konlpy.corpus.CorpusLoader at 0x7fb40e834310>"
      ]
     },
     "execution_count": 73,
     "metadata": {},
     "output_type": "execute_result"
    }
   ],
   "source": [
    "kolaw는 헌법, kobill은 의안이다! 코엔엘파이에서 제공하는 기존 말뭉치다!"
   ]
  },
  {
   "cell_type": "code",
   "execution_count": 95,
   "id": "96adc4ea",
   "metadata": {},
   "outputs": [],
   "source": [
    "data = kolaw.open(kolaw.fileids()[0]).read()"
   ]
  },
  {
   "cell_type": "code",
   "execution_count": 96,
   "id": "b1f6506d",
   "metadata": {},
   "outputs": [
    {
     "data": {
      "text/plain": [
       "(18884, 4178, 2029)"
      ]
     },
     "execution_count": 96,
     "metadata": {},
     "output_type": "execute_result"
    }
   ],
   "source": [
    "len(data), len(data.split()), len(set(data.split()))"
   ]
  },
  {
   "cell_type": "code",
   "execution_count": 98,
   "id": "5c6e5619",
   "metadata": {},
   "outputs": [
    {
     "data": {
      "text/plain": [
       "(8796, 1364)"
      ]
     },
     "execution_count": 98,
     "metadata": {},
     "output_type": "execute_result"
    }
   ],
   "source": [
    "len(okt.morphs(data)), len(set(okt.morphs(data)))"
   ]
  },
  {
   "cell_type": "code",
   "execution_count": null,
   "id": "823e735a",
   "metadata": {},
   "outputs": [],
   "source": [
    "셋으로 중복으로 사용된 어미를 제거했다!"
   ]
  },
  {
   "cell_type": "code",
   "execution_count": 102,
   "id": "b9f0e10e",
   "metadata": {},
   "outputs": [],
   "source": [
    "josa = [_[0]for _ in okt.pos(data) if _[1]=='Josa']"
   ]
  },
  {
   "cell_type": "code",
   "execution_count": 104,
   "id": "12d2456b",
   "metadata": {},
   "outputs": [
    {
     "data": {
      "text/plain": [
       "(1981, 47)"
      ]
     },
     "execution_count": 104,
     "metadata": {},
     "output_type": "execute_result"
    }
   ],
   "source": [
    "len(josa), len(set(josa))"
   ]
  },
  {
   "cell_type": "code",
   "execution_count": null,
   "id": "52419919",
   "metadata": {},
   "outputs": [],
   "source": [
    "이게 조사만 있는 경우다! 유니크한 조사가 47개고, 조사의 프리퀀시가 1981개라는 뜻이다!"
   ]
  },
  {
   "cell_type": "code",
   "execution_count": 106,
   "id": "8a00da46",
   "metadata": {},
   "outputs": [
    {
     "data": {
      "text/plain": [
       "[('대한민국', 'Noun'),\n",
       " ('헌법', 'Noun'),\n",
       " ('\\n\\n', 'Foreign'),\n",
       " ('유구', 'Noun'),\n",
       " ('한', 'Josa'),\n",
       " ('역사', 'Noun'),\n",
       " ('와', 'Josa'),\n",
       " ('전통', 'Noun'),\n",
       " ('에', 'Josa'),\n",
       " ('빛나는', 'Verb'),\n",
       " ('우리', 'Noun'),\n",
       " ('대', 'Modifier'),\n",
       " ('한', 'Modifier'),\n",
       " ('국민', 'Noun'),\n",
       " ('은', 'Josa'),\n",
       " ('3', 'Number'),\n",
       " ('·', 'Punctuation'),\n",
       " ('1', 'Number'),\n",
       " ('운동', 'Noun'),\n",
       " ('으로', 'Josa'),\n",
       " ('건립', 'Noun'),\n",
       " ('된', 'Verb'),\n",
       " ('대한민국', 'Noun'),\n",
       " ('임시정부', 'Noun'),\n",
       " ('의', 'Josa'),\n",
       " ('법', 'Noun'),\n",
       " ('통과', 'Noun'),\n",
       " ('불의', 'Noun'),\n",
       " ('에', 'Josa'),\n",
       " ('항거', 'Noun'),\n",
       " ('한', 'Josa'),\n",
       " ('4', 'Number'),\n",
       " ('·', 'Punctuation'),\n",
       " ('19', 'Number'),\n",
       " ('민주', 'Noun'),\n",
       " ('이념', 'Noun'),\n",
       " ('을', 'Josa'),\n",
       " ('계승', 'Noun'),\n",
       " ('하고', 'Josa'),\n",
       " (',', 'Punctuation'),\n",
       " ('조국', 'Noun'),\n",
       " ('의', 'Josa'),\n",
       " ('민주', 'Noun'),\n",
       " ('개혁', 'Noun'),\n",
       " ('과', 'Josa'),\n",
       " ('평화', 'Noun'),\n",
       " ('적', 'Suffix'),\n",
       " ('통일', 'Noun'),\n",
       " ('의', 'Josa'),\n",
       " ('사명', 'Noun'),\n",
       " ('에', 'Josa'),\n",
       " ('입', 'Noun'),\n",
       " ('각하', 'Noun'),\n",
       " ('여', 'Josa'),\n",
       " ('정의', 'Noun'),\n",
       " ('·', 'Punctuation'),\n",
       " ('인도', 'Noun'),\n",
       " ('와', 'Josa'),\n",
       " ('동포', 'Noun'),\n",
       " ('애', 'Noun'),\n",
       " ('로써', 'Noun'),\n",
       " ('민족', 'Noun'),\n",
       " ('의', 'Josa'),\n",
       " ('단결', 'Noun'),\n",
       " ('을', 'Josa'),\n",
       " ('공고', 'Noun'),\n",
       " ('히', 'Adverb'),\n",
       " ('하고', 'Verb'),\n",
       " (',', 'Punctuation'),\n",
       " ('모든', 'Noun'),\n",
       " ('사회', 'Noun'),\n",
       " ('적', 'Suffix'),\n",
       " ('폐습', 'Noun'),\n",
       " ('과', 'Josa'),\n",
       " ('불의', 'Noun'),\n",
       " ('를', 'Josa'),\n",
       " ('타파', 'Noun'),\n",
       " ('하며', 'Verb'),\n",
       " (',', 'Punctuation'),\n",
       " ('자율', 'Noun'),\n",
       " ('과', 'Josa'),\n",
       " ('조화', 'Noun'),\n",
       " ('를', 'Josa'),\n",
       " ('바탕', 'Noun'),\n",
       " ('으로', 'Josa'),\n",
       " ('자유민주', 'Noun'),\n",
       " ('적', 'Suffix'),\n",
       " ('기', 'Modifier'),\n",
       " ('본', 'Modifier'),\n",
       " ('질서', 'Noun'),\n",
       " ('를', 'Josa'),\n",
       " ('더욱', 'Noun'),\n",
       " ('확고히', 'Adjective'),\n",
       " ('하여', 'Verb'),\n",
       " ('정치', 'Noun'),\n",
       " ('·', 'Punctuation'),\n",
       " ('경제', 'Noun'),\n",
       " ('·', 'Punctuation'),\n",
       " ('사회', 'Noun'),\n",
       " ('·', 'Punctuation'),\n",
       " ('문화', 'Noun'),\n",
       " ('의', 'Josa'),\n",
       " ('모든', 'Noun'),\n",
       " ('영역', 'Noun'),\n",
       " ('에', 'Josa'),\n",
       " ('있어서', 'Adjective'),\n",
       " ('각인', 'Noun'),\n",
       " ('의', 'Josa'),\n",
       " ('기회', 'Noun'),\n",
       " ('를', 'Josa'),\n",
       " ('균등히', 'Adjective'),\n",
       " ('하고', 'Verb'),\n",
       " (',', 'Punctuation'),\n",
       " ('능력', 'Noun'),\n",
       " ('을', 'Josa'),\n",
       " ('최고', 'Noun'),\n",
       " ('도로', 'Noun'),\n",
       " ('발휘', 'Noun'),\n",
       " ('하게', 'Verb'),\n",
       " ('하며', 'Verb'),\n",
       " (',', 'Punctuation'),\n",
       " ('자유', 'Noun'),\n",
       " ('와', 'Josa'),\n",
       " ('권리', 'Noun'),\n",
       " ('에', 'Josa'),\n",
       " ('따르는', 'Verb'),\n",
       " ('책임', 'Noun'),\n",
       " ('과', 'Josa'),\n",
       " ('의무', 'Noun'),\n",
       " ('를', 'Josa'),\n",
       " ('완수', 'Noun'),\n",
       " ('하게', 'Verb'),\n",
       " ('하여', 'Verb'),\n",
       " (',', 'Punctuation'),\n",
       " ('안', 'Noun'),\n",
       " ('으로는', 'Josa'),\n",
       " ('국민', 'Noun'),\n",
       " ('생활', 'Noun'),\n",
       " ('의', 'Josa'),\n",
       " ('균등한', 'Adjective'),\n",
       " ('향상', 'Noun'),\n",
       " ('을', 'Josa'),\n",
       " ('기하', 'Noun'),\n",
       " ('고', 'Josa'),\n",
       " ('밖', 'Noun'),\n",
       " ('으로는', 'Josa'),\n",
       " ('항구', 'Noun'),\n",
       " ('적', 'Suffix'),\n",
       " ('인', 'Josa'),\n",
       " ('세계', 'Noun'),\n",
       " ('평화', 'Noun'),\n",
       " ('와', 'Josa'),\n",
       " ('인류', 'Noun'),\n",
       " ('공영', 'Noun'),\n",
       " ('에', 'Josa'),\n",
       " ('이바지', 'Noun'),\n",
       " ('함', 'Noun'),\n",
       " ('으로써', 'Josa'),\n",
       " ('우리', 'Noun'),\n",
       " ('들', 'Suffix'),\n",
       " ('과', 'Josa'),\n",
       " ('우리', 'Noun'),\n",
       " ('들', 'Suffix'),\n",
       " ('의', 'Josa'),\n",
       " ('자손', 'Noun'),\n",
       " ('의', 'Josa'),\n",
       " ('안전', 'Noun'),\n",
       " ('과', 'Josa'),\n",
       " ('자유', 'Noun'),\n",
       " ('와', 'Josa'),\n",
       " ('행복', 'Noun'),\n",
       " ('을', 'Josa'),\n",
       " ('영원히', 'Adjective'),\n",
       " ('확보', 'Noun'),\n",
       " ('할', 'Verb'),\n",
       " ('것', 'Noun'),\n",
       " ('을', 'Josa'),\n",
       " ('다짐', 'Noun'),\n",
       " ('하면서', 'Verb'),\n",
       " ('1948년', 'Number'),\n",
       " ('7월', 'Number'),\n",
       " ('12일', 'Number'),\n",
       " ('에', 'Foreign'),\n",
       " ('제정', 'Noun'),\n",
       " ('되고', 'Verb'),\n",
       " ('8', 'Number'),\n",
       " ('차', 'Noun'),\n",
       " ('에', 'Josa'),\n",
       " ('걸쳐', 'Verb'),\n",
       " ('개정', 'Noun'),\n",
       " ('된', 'Verb'),\n",
       " ('헌법', 'Noun'),\n",
       " ('을', 'Josa'),\n",
       " ('이제', 'Noun'),\n",
       " ('국회', 'Noun'),\n",
       " ('의', 'Josa'),\n",
       " ('의결', 'Noun'),\n",
       " ('을', 'Josa'),\n",
       " ('거쳐', 'Verb'),\n",
       " ('국민투표', 'Noun'),\n",
       " ('에', 'Josa'),\n",
       " ('의하여', 'Adjective'),\n",
       " ('개정', 'Noun'),\n",
       " ('한다', 'Verb'),\n",
       " ('.', 'Punctuation')]"
      ]
     },
     "execution_count": 106,
     "metadata": {},
     "output_type": "execute_result"
    }
   ],
   "source": [
    "okt.pos('\\n'. join(data.splitlines()[:3]))"
   ]
  },
  {
   "cell_type": "code",
   "execution_count": null,
   "id": "6918150b",
   "metadata": {},
   "outputs": [],
   "source": [
    "okt가 분석한 결과는 말이 되지만 좀 애매하다.."
   ]
  },
  {
   "cell_type": "markdown",
   "id": "4012ee40",
   "metadata": {},
   "source": [
    "------------"
   ]
  },
  {
   "cell_type": "code",
   "execution_count": null,
   "id": "7deba157",
   "metadata": {},
   "outputs": [],
   "source": [
    "이번엔 영어를 할거다!"
   ]
  },
  {
   "cell_type": "code",
   "execution_count": 108,
   "id": "c33ac14c",
   "metadata": {},
   "outputs": [],
   "source": [
    "import nltk"
   ]
  },
  {
   "cell_type": "code",
   "execution_count": 109,
   "id": "f87d725b",
   "metadata": {},
   "outputs": [
    {
     "name": "stdout",
     "output_type": "stream",
     "text": [
      "showing info https://raw.githubusercontent.com/nltk/nltk_data/gh-pages/index.xml\n"
     ]
    },
    {
     "data": {
      "text/plain": [
       "True"
      ]
     },
     "execution_count": 109,
     "metadata": {},
     "output_type": "execute_result"
    }
   ],
   "source": [
    "nltk.download()"
   ]
  },
  {
   "cell_type": "code",
   "execution_count": null,
   "id": "256daef0",
   "metadata": {},
   "outputs": [],
   "source": [
    "담화 -> 문단 -> 문장 -> 어절(구문) -> 품사 -> 형태소\n",
    "                                        토큰화"
   ]
  },
  {
   "cell_type": "code",
   "execution_count": 111,
   "id": "fe40c74a",
   "metadata": {},
   "outputs": [],
   "source": [
    "from nltk.tokenize import sent_tokenize, word_tokenize"
   ]
  },
  {
   "cell_type": "code",
   "execution_count": 113,
   "id": "e7b3e790",
   "metadata": {},
   "outputs": [
    {
     "data": {
      "text/plain": [
       "(356, 357)"
      ]
     },
     "execution_count": 113,
     "metadata": {},
     "output_type": "execute_result"
    }
   ],
   "source": [
    "len(data.splitlines()), len(sent_tokenize(data))"
   ]
  }
 ],
 "metadata": {
  "kernelspec": {
   "display_name": "Python 3",
   "language": "python",
   "name": "python3"
  },
  "language_info": {
   "codemirror_mode": {
    "name": "ipython",
    "version": 3
   },
   "file_extension": ".py",
   "mimetype": "text/x-python",
   "name": "python",
   "nbconvert_exporter": "python",
   "pygments_lexer": "ipython3",
   "version": "3.8.8"
  }
 },
 "nbformat": 4,
 "nbformat_minor": 5
}
