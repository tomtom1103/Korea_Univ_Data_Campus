{
 "cells": [
  {
   "cell_type": "code",
   "execution_count": 4,
   "id": "caf1efed",
   "metadata": {},
   "outputs": [],
   "source": [
    "import pandas as pd\n",
    "import numpy as np\n",
    "import sqlite3\n",
    "import sqlalchemy\n",
    "from sqlalchemy import create_engine, Table, Column, Integer, String, MetaData, ForeignKey, select"
   ]
  },
  {
   "cell_type": "code",
   "execution_count": 5,
   "id": "c81282bc",
   "metadata": {},
   "outputs": [],
   "source": [
    "from sqlalchemy.ext.declarative import declarative_base"
   ]
  },
  {
   "cell_type": "code",
   "execution_count": 6,
   "id": "8c04911d",
   "metadata": {},
   "outputs": [],
   "source": [
    "base = declarative_base()"
   ]
  },
  {
   "cell_type": "code",
   "execution_count": 7,
   "id": "e29a9a01",
   "metadata": {},
   "outputs": [],
   "source": [
    "engine = create_engine(\"sqlite:///newalchemy.db\", echo = True)"
   ]
  },
  {
   "cell_type": "code",
   "execution_count": 36,
   "id": "eefd7ca1",
   "metadata": {},
   "outputs": [],
   "source": [
    "class User(base):\n",
    "    __tablename__ = 'T_USER'\n",
    "    \n",
    "    pk = Column('C_PK',Integer,primary_key=True)\n",
    "    name = Column('C_NAME',String)\n",
    "    \n",
    "    def __repr__(self):\n",
    "        return '{}{}'.format(self.pk,self.name)"
   ]
  },
  {
   "cell_type": "code",
   "execution_count": 9,
   "id": "6d5fb2ea",
   "metadata": {},
   "outputs": [
    {
     "name": "stdout",
     "output_type": "stream",
     "text": [
      "2021-07-06 10:22:54,093 INFO sqlalchemy.engine.Engine BEGIN (implicit)\n",
      "2021-07-06 10:22:54,094 INFO sqlalchemy.engine.Engine PRAGMA main.table_info(\"T_USER\")\n",
      "2021-07-06 10:22:54,094 INFO sqlalchemy.engine.Engine [raw sql] ()\n",
      "2021-07-06 10:22:54,096 INFO sqlalchemy.engine.Engine PRAGMA temp.table_info(\"T_USER\")\n",
      "2021-07-06 10:22:54,096 INFO sqlalchemy.engine.Engine [raw sql] ()\n",
      "2021-07-06 10:22:54,097 INFO sqlalchemy.engine.Engine \n",
      "CREATE TABLE \"T_USER\" (\n",
      "\t\"C_PK\" INTEGER NOT NULL, \n",
      "\t\"C_NAME\" VARCHAR, \n",
      "\tPRIMARY KEY (\"C_PK\")\n",
      ")\n",
      "\n",
      "\n",
      "2021-07-06 10:22:54,098 INFO sqlalchemy.engine.Engine [no key 0.00056s] ()\n",
      "2021-07-06 10:22:54,099 INFO sqlalchemy.engine.Engine COMMIT\n"
     ]
    }
   ],
   "source": [
    "base.metadata.create_all(engine)"
   ]
  },
  {
   "cell_type": "code",
   "execution_count": 10,
   "id": "01d46d61",
   "metadata": {},
   "outputs": [
    {
     "data": {
      "text/plain": [
       "Table('T_USER', MetaData(), Column('C_PK', Integer(), table=<T_USER>, primary_key=True, nullable=False), Column('C_NAME', String(), table=<T_USER>), schema=None)"
      ]
     },
     "execution_count": 10,
     "metadata": {},
     "output_type": "execute_result"
    }
   ],
   "source": [
    "User.__table__\n",
    "#생성할 테이블에 대한 정보"
   ]
  },
  {
   "cell_type": "code",
   "execution_count": 12,
   "id": "cdfbd6bb",
   "metadata": {},
   "outputs": [
    {
     "data": {
      "text/plain": [
       "<Mapper at 0x7fcddf0310d0; User>"
      ]
     },
     "execution_count": 12,
     "metadata": {},
     "output_type": "execute_result"
    }
   ],
   "source": [
    "User.__mapper__"
   ]
  },
  {
   "cell_type": "code",
   "execution_count": 13,
   "id": "2a6e19ee",
   "metadata": {},
   "outputs": [],
   "source": [
    "kim = User(name = 'kim')"
   ]
  },
  {
   "cell_type": "code",
   "execution_count": 15,
   "id": "e4dbbaa1",
   "metadata": {},
   "outputs": [
    {
     "data": {
      "text/plain": [
       "('kim', None)"
      ]
     },
     "execution_count": 15,
     "metadata": {},
     "output_type": "execute_result"
    }
   ],
   "source": [
    "kim.name, kim.pk"
   ]
  },
  {
   "cell_type": "code",
   "execution_count": 16,
   "id": "53d74080",
   "metadata": {},
   "outputs": [],
   "source": [
    "#인스턴스가 변경이 되면 싱크가 깨지니깐 디비를 업데이트 해야한다. 커밋을 해야한다."
   ]
  },
  {
   "cell_type": "code",
   "execution_count": 17,
   "id": "67333694",
   "metadata": {},
   "outputs": [],
   "source": [
    "from sqlalchemy.orm import sessionmaker"
   ]
  },
  {
   "cell_type": "code",
   "execution_count": 18,
   "id": "9540bf7f",
   "metadata": {},
   "outputs": [],
   "source": [
    "from sqlalchemy.orm.session import Session"
   ]
  },
  {
   "cell_type": "code",
   "execution_count": 19,
   "id": "8428fc03",
   "metadata": {},
   "outputs": [],
   "source": [
    "sess = sessionmaker()\n",
    "session = sess(bind = engine)"
   ]
  },
  {
   "cell_type": "code",
   "execution_count": 20,
   "id": "86bfb1c2",
   "metadata": {},
   "outputs": [],
   "source": [
    "session.add(kim)"
   ]
  },
  {
   "cell_type": "code",
   "execution_count": 21,
   "id": "a40f12ff",
   "metadata": {},
   "outputs": [
    {
     "data": {
      "text/plain": [
       "IdentitySet([])"
      ]
     },
     "execution_count": 21,
     "metadata": {},
     "output_type": "execute_result"
    }
   ],
   "source": [
    "session.dirty"
   ]
  },
  {
   "cell_type": "code",
   "execution_count": 22,
   "id": "93967e6e",
   "metadata": {},
   "outputs": [
    {
     "data": {
      "text/plain": [
       "True"
      ]
     },
     "execution_count": 22,
     "metadata": {},
     "output_type": "execute_result"
    }
   ],
   "source": [
    "session.is_modified(kim)"
   ]
  },
  {
   "cell_type": "code",
   "execution_count": 24,
   "id": "c9b82c8c",
   "metadata": {},
   "outputs": [
    {
     "name": "stdout",
     "output_type": "stream",
     "text": [
      "2021-07-06 10:31:59,709 INFO sqlalchemy.engine.Engine BEGIN (implicit)\n",
      "2021-07-06 10:31:59,710 INFO sqlalchemy.engine.Engine INSERT INTO \"T_USER\" (\"C_NAME\") VALUES (?)\n",
      "2021-07-06 10:31:59,711 INFO sqlalchemy.engine.Engine [generated in 0.00077s] ('kim',)\n",
      "2021-07-06 10:31:59,712 INFO sqlalchemy.engine.Engine COMMIT\n"
     ]
    }
   ],
   "source": [
    "session.commit()"
   ]
  },
  {
   "cell_type": "code",
   "execution_count": 25,
   "id": "16956a9a",
   "metadata": {},
   "outputs": [
    {
     "name": "stdout",
     "output_type": "stream",
     "text": [
      "2021-07-06 10:32:56,575 INFO sqlalchemy.engine.Engine BEGIN (implicit)\n",
      "2021-07-06 10:32:56,578 INFO sqlalchemy.engine.Engine SELECT \"T_USER\".\"C_PK\" AS \"T_USER_C_PK\", \"T_USER\".\"C_NAME\" AS \"T_USER_C_NAME\" \n",
      "FROM \"T_USER\" \n",
      "WHERE \"T_USER\".\"C_PK\" = ?\n",
      "2021-07-06 10:32:56,578 INFO sqlalchemy.engine.Engine [generated in 0.00062s] (1,)\n"
     ]
    },
    {
     "data": {
      "text/plain": [
       "1"
      ]
     },
     "execution_count": 25,
     "metadata": {},
     "output_type": "execute_result"
    }
   ],
   "source": [
    "kim.pk"
   ]
  },
  {
   "cell_type": "code",
   "execution_count": 26,
   "id": "5368e8c5",
   "metadata": {},
   "outputs": [
    {
     "data": {
      "text/plain": [
       "(1, 'kim')"
      ]
     },
     "execution_count": 26,
     "metadata": {},
     "output_type": "execute_result"
    }
   ],
   "source": [
    "kim.pk, kim.name"
   ]
  },
  {
   "cell_type": "code",
   "execution_count": 27,
   "id": "7fa09718",
   "metadata": {},
   "outputs": [],
   "source": [
    "kim.name = 'dfasfaslfjweqnfo'"
   ]
  },
  {
   "cell_type": "code",
   "execution_count": 29,
   "id": "d0032059",
   "metadata": {},
   "outputs": [
    {
     "name": "stdout",
     "output_type": "stream",
     "text": [
      "2021-07-06 10:34:59,740 INFO sqlalchemy.engine.Engine UPDATE \"T_USER\" SET \"C_NAME\"=? WHERE \"T_USER\".\"C_PK\" = ?\n",
      "2021-07-06 10:34:59,741 INFO sqlalchemy.engine.Engine [generated in 0.00097s] ('dfasfaslfjweqnfo', 1)\n",
      "2021-07-06 10:34:59,742 INFO sqlalchemy.engine.Engine COMMIT\n"
     ]
    }
   ],
   "source": [
    "session.commit()"
   ]
  },
  {
   "cell_type": "code",
   "execution_count": 30,
   "id": "9c97b798",
   "metadata": {},
   "outputs": [],
   "source": [
    "#매핑한 데이터가 싱크가 안맞으니 커밋으로 푸쉬를 해야 디비상의 변화가 생긴다."
   ]
  },
  {
   "cell_type": "code",
   "execution_count": 31,
   "id": "13b89028",
   "metadata": {},
   "outputs": [
    {
     "name": "stdout",
     "output_type": "stream",
     "text": [
      "2021-07-06 10:35:22,808 INFO sqlalchemy.engine.Engine BEGIN (implicit)\n",
      "2021-07-06 10:35:22,809 INFO sqlalchemy.engine.Engine SELECT \"T_USER\".\"C_PK\" AS \"T_USER_C_PK\", \"T_USER\".\"C_NAME\" AS \"T_USER_C_NAME\" \n",
      "FROM \"T_USER\" \n",
      "WHERE \"T_USER\".\"C_PK\" = ?\n",
      "2021-07-06 10:35:22,809 INFO sqlalchemy.engine.Engine [cached since 146.2s ago] (1,)\n"
     ]
    },
    {
     "data": {
      "text/plain": [
       "'dfasfaslfjweqnfo'"
      ]
     },
     "execution_count": 31,
     "metadata": {},
     "output_type": "execute_result"
    }
   ],
   "source": [
    "kim.name"
   ]
  },
  {
   "cell_type": "markdown",
   "id": "f78eef15",
   "metadata": {},
   "source": [
    "--------"
   ]
  },
  {
   "cell_type": "code",
   "execution_count": 38,
   "id": "e6005b05",
   "metadata": {},
   "outputs": [],
   "source": [
    "kim.name = 'TEST'"
   ]
  },
  {
   "cell_type": "code",
   "execution_count": 42,
   "id": "1d153135",
   "metadata": {},
   "outputs": [
    {
     "name": "stdout",
     "output_type": "stream",
     "text": [
      "2021-07-06 10:43:09,832 INFO sqlalchemy.engine.Engine UPDATE \"T_USER\" SET \"C_NAME\"=? WHERE \"T_USER\".\"C_PK\" = ?\n",
      "2021-07-06 10:43:09,833 INFO sqlalchemy.engine.Engine [cached since 490.1s ago] ('TEST', 1)\n",
      "2021-07-06 10:43:09,834 INFO sqlalchemy.engine.Engine COMMIT\n"
     ]
    }
   ],
   "source": [
    "session.commit()"
   ]
  },
  {
   "cell_type": "code",
   "execution_count": 43,
   "id": "17abf3ba",
   "metadata": {},
   "outputs": [
    {
     "data": {
      "text/plain": [
       "IdentitySet([])"
      ]
     },
     "execution_count": 43,
     "metadata": {},
     "output_type": "execute_result"
    }
   ],
   "source": [
    "session.dirty"
   ]
  },
  {
   "cell_type": "code",
   "execution_count": 48,
   "id": "1406ee80",
   "metadata": {},
   "outputs": [
    {
     "name": "stdout",
     "output_type": "stream",
     "text": [
      "2021-07-06 10:46:36,404 INFO sqlalchemy.engine.Engine SELECT \"T_USER\".\"C_PK\" AS \"T_USER_C_PK\", \"T_USER\".\"C_NAME\" AS \"T_USER_C_NAME\" \n",
      "FROM \"T_USER\"\n",
      "2021-07-06 10:46:36,405 INFO sqlalchemy.engine.Engine [cached since 79.96s ago] ()\n",
      "<class '__main__.User'>\n"
     ]
    }
   ],
   "source": [
    "user_list = list()\n",
    "for _ in list(session.query(User)):\n",
    "    user_list.append(_)\n",
    "    print(type(_))"
   ]
  },
  {
   "cell_type": "code",
   "execution_count": 54,
   "id": "feac0b62",
   "metadata": {},
   "outputs": [
    {
     "data": {
      "text/plain": [
       "1TEST"
      ]
     },
     "execution_count": 54,
     "metadata": {},
     "output_type": "execute_result"
    }
   ],
   "source": [
    "user_list[0]"
   ]
  },
  {
   "cell_type": "code",
   "execution_count": 55,
   "id": "6946303b",
   "metadata": {},
   "outputs": [],
   "source": [
    "user_list[0].name='kim'"
   ]
  },
  {
   "cell_type": "code",
   "execution_count": 56,
   "id": "cb4c88ca",
   "metadata": {},
   "outputs": [
    {
     "data": {
      "text/plain": [
       "IdentitySet([1kim])"
      ]
     },
     "execution_count": 56,
     "metadata": {},
     "output_type": "execute_result"
    }
   ],
   "source": [
    "session.dirty"
   ]
  },
  {
   "cell_type": "code",
   "execution_count": 57,
   "id": "5955f987",
   "metadata": {},
   "outputs": [
    {
     "name": "stdout",
     "output_type": "stream",
     "text": [
      "2021-07-06 10:47:44,452 INFO sqlalchemy.engine.Engine UPDATE \"T_USER\" SET \"C_NAME\"=? WHERE \"T_USER\".\"C_PK\" = ?\n",
      "2021-07-06 10:47:44,453 INFO sqlalchemy.engine.Engine [generated in 0.00098s] ('kim', 1)\n",
      "2021-07-06 10:47:44,454 INFO sqlalchemy.engine.Engine COMMIT\n"
     ]
    }
   ],
   "source": [
    "session.commit()"
   ]
  },
  {
   "cell_type": "code",
   "execution_count": 58,
   "id": "75bf7eba",
   "metadata": {},
   "outputs": [
    {
     "name": "stdout",
     "output_type": "stream",
     "text": [
      "2021-07-06 10:47:52,762 INFO sqlalchemy.engine.Engine BEGIN (implicit)\n",
      "2021-07-06 10:47:52,763 INFO sqlalchemy.engine.Engine SELECT \"T_USER\".\"C_PK\" AS \"T_USER_C_PK\", \"T_USER\".\"C_NAME\" AS \"T_USER_C_NAME\" \n",
      "FROM \"T_USER\" \n",
      "WHERE \"T_USER\".\"C_PK\" = ?\n",
      "2021-07-06 10:47:52,764 INFO sqlalchemy.engine.Engine [generated in 0.00082s] (1,)\n"
     ]
    },
    {
     "data": {
      "text/plain": [
       "1kim"
      ]
     },
     "execution_count": 58,
     "metadata": {},
     "output_type": "execute_result"
    }
   ],
   "source": [
    "user_list[0]"
   ]
  },
  {
   "cell_type": "code",
   "execution_count": 59,
   "id": "a0ac4a76",
   "metadata": {},
   "outputs": [],
   "source": [
    "#세션에 더티가 있는지 없는지 보고, 커밋말 해주면 디비가 업데이트 된다!"
   ]
  },
  {
   "cell_type": "markdown",
   "id": "2c463001",
   "metadata": {},
   "source": [
    "------"
   ]
  },
  {
   "cell_type": "code",
   "execution_count": 74,
   "id": "e43e963e",
   "metadata": {},
   "outputs": [],
   "source": [
    "class Artist(base):\n",
    "    __tablename__ = 'T_ARTIST'\n",
    "    __table_args__ = {'extend_existing': True}\n",
    "    pk = Column('C_PK', Integer, primary_key = True)\n",
    "    name = Column('C_NAME', String)\n",
    "    \n",
    "    def __repr__(self):\n",
    "        return '{}{}'.format(self.pk, self.name)\n",
    "        \n",
    "        \n",
    "class Album(base):\n",
    "    __tablename__ = 'T_ALBUM'\n",
    "    __table_args__ = {'extend_existing': True}\n",
    "    pk = Column('C_PK', Integer, primary_key = True)\n",
    "    name = Column('C_NAME', String)\n",
    "    fk = Column('C_FK',None,ForeignKey('T_ARTIST.C_PK'))\n",
    "    \n",
    "    def __repr__(self):\n",
    "        return '{}{}{}'.format(self.pk, self.name, self.fk)\n",
    "    \n",
    "class Genre(base):\n",
    "    __tablename__ = 'T_GENRE'\n",
    "    __table_args__ = {'extend_existing': True}\n",
    "    pk = Column('C_PK', Integer, primary_key = True)\n",
    "    name = Column('C_NAME', String)\n",
    "    \n",
    "    def __repr__(self):\n",
    "        return '{}{}'.format(self.pk, self.name)\n",
    "    \n",
    "class Track(base):\n",
    "    __tablename__ = 'T_TRACK'\n",
    "    __table_args__ = {'extend_existing': True}\n",
    "    pk = Column('C_PK', Integer, primary_key = True)\n",
    "    name = Column('C_NAME', String)\n",
    "    fk1 = Column('C_FK1',None,ForeignKey('T_ALBUM.C_PK'))\n",
    "    fk2 = Column('C_FK2',None,ForeignKey('T_GENRE.C_PK'))\n",
    "\n",
    "    \n",
    "    def __repr__(self):\n",
    "        return '{}{}{}{}'.format(self.pk, self.name, self.fk1, self.fk2)"
   ]
  },
  {
   "cell_type": "code",
   "execution_count": 73,
   "id": "2b432bd9",
   "metadata": {},
   "outputs": [],
   "source": [
    "base.metadata.clear()"
   ]
  },
  {
   "cell_type": "code",
   "execution_count": 75,
   "id": "7474b461",
   "metadata": {},
   "outputs": [],
   "source": [
    "artist1 = Artist(name = 'TOMCAAT')\n",
    "artist2 = Artist(name = 'SPACEJIHUNNID')"
   ]
  },
  {
   "cell_type": "code",
   "execution_count": 86,
   "id": "ef6bd2f2",
   "metadata": {},
   "outputs": [],
   "source": [
    "session.add_all([artist1,artist2])"
   ]
  },
  {
   "cell_type": "code",
   "execution_count": 87,
   "id": "86291ed7",
   "metadata": {},
   "outputs": [
    {
     "data": {
      "text/plain": [
       "IdentitySet([])"
      ]
     },
     "execution_count": 87,
     "metadata": {},
     "output_type": "execute_result"
    }
   ],
   "source": [
    "session.dirty"
   ]
  },
  {
   "cell_type": "code",
   "execution_count": 88,
   "id": "55099231",
   "metadata": {},
   "outputs": [
    {
     "data": {
      "text/plain": [
       "True"
      ]
     },
     "execution_count": 88,
     "metadata": {},
     "output_type": "execute_result"
    }
   ],
   "source": [
    "session.is_modified(artist1)"
   ]
  },
  {
   "cell_type": "code",
   "execution_count": 79,
   "id": "36321961",
   "metadata": {},
   "outputs": [
    {
     "name": "stdout",
     "output_type": "stream",
     "text": [
      "2021-07-06 11:19:49,103 INFO sqlalchemy.engine.Engine COMMIT\n"
     ]
    }
   ],
   "source": [
    "session.commit()"
   ]
  },
  {
   "cell_type": "code",
   "execution_count": 92,
   "id": "256dd78e",
   "metadata": {},
   "outputs": [],
   "source": [
    "album_list = [Album(name = '소년과시간여행의순기능',fk=artist1.pk),\n",
    "             Album(name = 'EMERGENCY!',fk=artist2.pk)]"
   ]
  },
  {
   "cell_type": "code",
   "execution_count": 93,
   "id": "1e6cf27d",
   "metadata": {},
   "outputs": [
    {
     "data": {
      "text/plain": [
       "IdentitySet([])"
      ]
     },
     "execution_count": 93,
     "metadata": {},
     "output_type": "execute_result"
    }
   ],
   "source": [
    "session.dirty"
   ]
  },
  {
   "cell_type": "code",
   "execution_count": 94,
   "id": "81d7d4d7",
   "metadata": {},
   "outputs": [],
   "source": [
    "session.add_all(album_list)"
   ]
  },
  {
   "cell_type": "code",
   "execution_count": 95,
   "id": "5397e77f",
   "metadata": {},
   "outputs": [
    {
     "ename": "PendingRollbackError",
     "evalue": "This Session's transaction has been rolled back due to a previous exception during flush. To begin a new transaction with this Session, first issue Session.rollback(). Original exception was: (sqlite3.OperationalError) no such table: T_ALBUM\n[SQL: INSERT INTO \"T_ALBUM\" (\"C_NAME\", \"C_FK\") VALUES (?, ?)]\n[parameters: ('소년과시간여행의순기능', None)]\n(Background on this error at: http://sqlalche.me/e/14/e3q8) (Background on this error at: http://sqlalche.me/e/14/7s2a)",
     "output_type": "error",
     "traceback": [
      "\u001b[0;31m---------------------------------------------------------------------------\u001b[0m",
      "\u001b[0;31mPendingRollbackError\u001b[0m                      Traceback (most recent call last)",
      "\u001b[0;32m<ipython-input-95-83a1dbdbd92a>\u001b[0m in \u001b[0;36m<module>\u001b[0;34m\u001b[0m\n\u001b[0;32m----> 1\u001b[0;31m \u001b[0msession\u001b[0m\u001b[0;34m.\u001b[0m\u001b[0mcommit\u001b[0m\u001b[0;34m(\u001b[0m\u001b[0;34m)\u001b[0m\u001b[0;34m\u001b[0m\u001b[0;34m\u001b[0m\u001b[0m\n\u001b[0m",
      "\u001b[0;32m~/opt/anaconda3/lib/python3.8/site-packages/sqlalchemy/orm/session.py\u001b[0m in \u001b[0;36mcommit\u001b[0;34m(self)\u001b[0m\n\u001b[1;32m   1421\u001b[0m                 \u001b[0;32mraise\u001b[0m \u001b[0msa_exc\u001b[0m\u001b[0;34m.\u001b[0m\u001b[0mInvalidRequestError\u001b[0m\u001b[0;34m(\u001b[0m\u001b[0;34m\"No transaction is begun.\"\u001b[0m\u001b[0;34m)\u001b[0m\u001b[0;34m\u001b[0m\u001b[0;34m\u001b[0m\u001b[0m\n\u001b[1;32m   1422\u001b[0m \u001b[0;34m\u001b[0m\u001b[0m\n\u001b[0;32m-> 1423\u001b[0;31m         \u001b[0mself\u001b[0m\u001b[0;34m.\u001b[0m\u001b[0m_transaction\u001b[0m\u001b[0;34m.\u001b[0m\u001b[0mcommit\u001b[0m\u001b[0;34m(\u001b[0m\u001b[0m_to_root\u001b[0m\u001b[0;34m=\u001b[0m\u001b[0mself\u001b[0m\u001b[0;34m.\u001b[0m\u001b[0mfuture\u001b[0m\u001b[0;34m)\u001b[0m\u001b[0;34m\u001b[0m\u001b[0;34m\u001b[0m\u001b[0m\n\u001b[0m\u001b[1;32m   1424\u001b[0m \u001b[0;34m\u001b[0m\u001b[0m\n\u001b[1;32m   1425\u001b[0m     \u001b[0;32mdef\u001b[0m \u001b[0mprepare\u001b[0m\u001b[0;34m(\u001b[0m\u001b[0mself\u001b[0m\u001b[0;34m)\u001b[0m\u001b[0;34m:\u001b[0m\u001b[0;34m\u001b[0m\u001b[0;34m\u001b[0m\u001b[0m\n",
      "\u001b[0;32m~/opt/anaconda3/lib/python3.8/site-packages/sqlalchemy/orm/session.py\u001b[0m in \u001b[0;36mcommit\u001b[0;34m(self, _to_root)\u001b[0m\n\u001b[1;32m    825\u001b[0m \u001b[0;34m\u001b[0m\u001b[0m\n\u001b[1;32m    826\u001b[0m     \u001b[0;32mdef\u001b[0m \u001b[0mcommit\u001b[0m\u001b[0;34m(\u001b[0m\u001b[0mself\u001b[0m\u001b[0;34m,\u001b[0m \u001b[0m_to_root\u001b[0m\u001b[0;34m=\u001b[0m\u001b[0;32mFalse\u001b[0m\u001b[0;34m)\u001b[0m\u001b[0;34m:\u001b[0m\u001b[0;34m\u001b[0m\u001b[0;34m\u001b[0m\u001b[0m\n\u001b[0;32m--> 827\u001b[0;31m         \u001b[0mself\u001b[0m\u001b[0;34m.\u001b[0m\u001b[0m_assert_active\u001b[0m\u001b[0;34m(\u001b[0m\u001b[0mprepared_ok\u001b[0m\u001b[0;34m=\u001b[0m\u001b[0;32mTrue\u001b[0m\u001b[0;34m)\u001b[0m\u001b[0;34m\u001b[0m\u001b[0;34m\u001b[0m\u001b[0m\n\u001b[0m\u001b[1;32m    828\u001b[0m         \u001b[0;32mif\u001b[0m \u001b[0mself\u001b[0m\u001b[0;34m.\u001b[0m\u001b[0m_state\u001b[0m \u001b[0;32mis\u001b[0m \u001b[0;32mnot\u001b[0m \u001b[0mPREPARED\u001b[0m\u001b[0;34m:\u001b[0m\u001b[0;34m\u001b[0m\u001b[0;34m\u001b[0m\u001b[0m\n\u001b[1;32m    829\u001b[0m             \u001b[0mself\u001b[0m\u001b[0;34m.\u001b[0m\u001b[0m_prepare_impl\u001b[0m\u001b[0;34m(\u001b[0m\u001b[0;34m)\u001b[0m\u001b[0;34m\u001b[0m\u001b[0;34m\u001b[0m\u001b[0m\n",
      "\u001b[0;32m~/opt/anaconda3/lib/python3.8/site-packages/sqlalchemy/orm/session.py\u001b[0m in \u001b[0;36m_assert_active\u001b[0;34m(self, prepared_ok, rollback_ok, deactive_ok, closed_msg)\u001b[0m\n\u001b[1;32m    599\u001b[0m             \u001b[0;32mif\u001b[0m \u001b[0;32mnot\u001b[0m \u001b[0mdeactive_ok\u001b[0m \u001b[0;32mand\u001b[0m \u001b[0;32mnot\u001b[0m \u001b[0mrollback_ok\u001b[0m\u001b[0;34m:\u001b[0m\u001b[0;34m\u001b[0m\u001b[0;34m\u001b[0m\u001b[0m\n\u001b[1;32m    600\u001b[0m                 \u001b[0;32mif\u001b[0m \u001b[0mself\u001b[0m\u001b[0;34m.\u001b[0m\u001b[0m_rollback_exception\u001b[0m\u001b[0;34m:\u001b[0m\u001b[0;34m\u001b[0m\u001b[0;34m\u001b[0m\u001b[0m\n\u001b[0;32m--> 601\u001b[0;31m                     raise sa_exc.PendingRollbackError(\n\u001b[0m\u001b[1;32m    602\u001b[0m                         \u001b[0;34m\"This Session's transaction has been rolled back \"\u001b[0m\u001b[0;34m\u001b[0m\u001b[0;34m\u001b[0m\u001b[0m\n\u001b[1;32m    603\u001b[0m                         \u001b[0;34m\"due to a previous exception during flush.\"\u001b[0m\u001b[0;34m\u001b[0m\u001b[0;34m\u001b[0m\u001b[0m\n",
      "\u001b[0;31mPendingRollbackError\u001b[0m: This Session's transaction has been rolled back due to a previous exception during flush. To begin a new transaction with this Session, first issue Session.rollback(). Original exception was: (sqlite3.OperationalError) no such table: T_ALBUM\n[SQL: INSERT INTO \"T_ALBUM\" (\"C_NAME\", \"C_FK\") VALUES (?, ?)]\n[parameters: ('소년과시간여행의순기능', None)]\n(Background on this error at: http://sqlalche.me/e/14/e3q8) (Background on this error at: http://sqlalche.me/e/14/7s2a)"
     ]
    }
   ],
   "source": [
    "session.commit()"
   ]
  }
 ],
 "metadata": {
  "kernelspec": {
   "display_name": "Python 3",
   "language": "python",
   "name": "python3"
  },
  "language_info": {
   "codemirror_mode": {
    "name": "ipython",
    "version": 3
   },
   "file_extension": ".py",
   "mimetype": "text/x-python",
   "name": "python",
   "nbconvert_exporter": "python",
   "pygments_lexer": "ipython3",
   "version": "3.8.8"
  }
 },
 "nbformat": 4,
 "nbformat_minor": 5
}
