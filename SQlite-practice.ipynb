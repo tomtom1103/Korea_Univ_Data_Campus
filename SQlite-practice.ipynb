{
 "cells": [
  {
   "cell_type": "code",
   "execution_count": 2,
   "id": "5441e551",
   "metadata": {},
   "outputs": [],
   "source": [
    "import sqlalchemy"
   ]
  },
  {
   "cell_type": "code",
   "execution_count": 13,
   "id": "b5c610af",
   "metadata": {},
   "outputs": [],
   "source": [
    "from sqlalchemy import create_engine, Table, Column, Integer, String, MetaData, ForeignKey"
   ]
  },
  {
   "cell_type": "code",
   "execution_count": 19,
   "id": "79a78342",
   "metadata": {},
   "outputs": [],
   "source": [
    "engine = create_engine('sqlite:///alchemy.db', echo=True)"
   ]
  },
  {
   "cell_type": "code",
   "execution_count": 20,
   "id": "8091043f",
   "metadata": {},
   "outputs": [],
   "source": [
    "meta = MetaData()"
   ]
  },
  {
   "cell_type": "code",
   "execution_count": 21,
   "id": "d8d1b8c4",
   "metadata": {},
   "outputs": [],
   "source": [
    "obj_users = Table('T_users', meta,\n",
    "                   Column('pk', Integer, primary_key=True),\n",
    "                   Column('name', String))\n",
    "\n",
    "obj_addr = Table('T_address', meta,\n",
    "                Column('pk', Integer, primary_key=True),\n",
    "                Column('name', String),\n",
    "                Column('fk',None, ForeignKey('T_users.pk')))"
   ]
  },
  {
   "cell_type": "code",
   "execution_count": 22,
   "id": "2b7a2b79",
   "metadata": {},
   "outputs": [
    {
     "data": {
      "text/plain": [
       "FacadeDict({'T_users': Table('T_users', MetaData(), Column('pk', Integer(), table=<T_users>, primary_key=True, nullable=False), Column('name', String(), table=<T_users>), schema=None), 'T_address': Table('T_address', MetaData(), Column('pk', Integer(), table=<T_address>, primary_key=True, nullable=False), Column('name', String(), table=<T_address>), Column('fk', Integer(), ForeignKey('T_users.pk'), table=<T_address>), schema=None)})"
      ]
     },
     "execution_count": 22,
     "metadata": {},
     "output_type": "execute_result"
    }
   ],
   "source": [
    "meta.tables"
   ]
  },
  {
   "cell_type": "code",
   "execution_count": 23,
   "id": "0b55dc96",
   "metadata": {},
   "outputs": [
    {
     "name": "stdout",
     "output_type": "stream",
     "text": [
      "2021-07-05 16:42:25,022 INFO sqlalchemy.engine.Engine BEGIN (implicit)\n",
      "2021-07-05 16:42:25,023 INFO sqlalchemy.engine.Engine PRAGMA main.table_info(\"T_users\")\n",
      "2021-07-05 16:42:25,023 INFO sqlalchemy.engine.Engine [raw sql] ()\n",
      "2021-07-05 16:42:25,024 INFO sqlalchemy.engine.Engine PRAGMA temp.table_info(\"T_users\")\n",
      "2021-07-05 16:42:25,025 INFO sqlalchemy.engine.Engine [raw sql] ()\n",
      "2021-07-05 16:42:25,026 INFO sqlalchemy.engine.Engine PRAGMA main.table_info(\"T_address\")\n",
      "2021-07-05 16:42:25,026 INFO sqlalchemy.engine.Engine [raw sql] ()\n",
      "2021-07-05 16:42:25,027 INFO sqlalchemy.engine.Engine PRAGMA temp.table_info(\"T_address\")\n",
      "2021-07-05 16:42:25,027 INFO sqlalchemy.engine.Engine [raw sql] ()\n",
      "2021-07-05 16:42:25,028 INFO sqlalchemy.engine.Engine \n",
      "CREATE TABLE \"T_users\" (\n",
      "\tpk INTEGER NOT NULL, \n",
      "\tname VARCHAR, \n",
      "\tPRIMARY KEY (pk)\n",
      ")\n",
      "\n",
      "\n",
      "2021-07-05 16:42:25,029 INFO sqlalchemy.engine.Engine [no key 0.00053s] ()\n",
      "2021-07-05 16:42:25,031 INFO sqlalchemy.engine.Engine \n",
      "CREATE TABLE \"T_address\" (\n",
      "\tpk INTEGER NOT NULL, \n",
      "\tname VARCHAR, \n",
      "\tfk INTEGER, \n",
      "\tPRIMARY KEY (pk), \n",
      "\tFOREIGN KEY(fk) REFERENCES \"T_users\" (pk)\n",
      ")\n",
      "\n",
      "\n",
      "2021-07-05 16:42:25,032 INFO sqlalchemy.engine.Engine [no key 0.00059s] ()\n",
      "2021-07-05 16:42:25,036 INFO sqlalchemy.engine.Engine COMMIT\n"
     ]
    }
   ],
   "source": [
    "meta.create_all(engine)"
   ]
  },
  {
   "cell_type": "code",
   "execution_count": 24,
   "id": "792859ef",
   "metadata": {},
   "outputs": [],
   "source": [
    "engine.echo = True"
   ]
  },
  {
   "cell_type": "code",
   "execution_count": 27,
   "id": "c50a74b4",
   "metadata": {},
   "outputs": [
    {
     "name": "stdout",
     "output_type": "stream",
     "text": [
      "{'pk': 1, 'name': 'A'}\n"
     ]
    }
   ],
   "source": [
    "print(obj_users.insert().values(pk=1,name='A').compile().params)"
   ]
  },
  {
   "cell_type": "code",
   "execution_count": null,
   "id": "9cc8e06e",
   "metadata": {},
   "outputs": [],
   "source": [
    "obj_users.insert().values(pk=1,name='A').compile().params"
   ]
  },
  {
   "cell_type": "code",
   "execution_count": 28,
   "id": "1eea5e47",
   "metadata": {},
   "outputs": [],
   "source": [
    "con = engine.connect()"
   ]
  },
  {
   "cell_type": "code",
   "execution_count": 29,
   "id": "cbbb5eda",
   "metadata": {},
   "outputs": [
    {
     "name": "stdout",
     "output_type": "stream",
     "text": [
      "2021-07-05 16:47:57,107 INFO sqlalchemy.engine.Engine INSERT INTO \"T_users\" (name) VALUES (?)\n",
      "2021-07-05 16:47:57,108 INFO sqlalchemy.engine.Engine [generated in 0.00092s] ('A',)\n",
      "2021-07-05 16:47:57,109 INFO sqlalchemy.engine.Engine COMMIT\n"
     ]
    },
    {
     "data": {
      "text/plain": [
       "<sqlalchemy.engine.cursor.LegacyCursorResult at 0x7faf170bfd60>"
      ]
     },
     "execution_count": 29,
     "metadata": {},
     "output_type": "execute_result"
    }
   ],
   "source": [
    "con.execute(obj_users.insert(), {'name':'A'})"
   ]
  },
  {
   "cell_type": "code",
   "execution_count": 30,
   "id": "7e02807c",
   "metadata": {},
   "outputs": [],
   "source": [
    "from sqlalchemy import select"
   ]
  },
  {
   "cell_type": "code",
   "execution_count": 32,
   "id": "0f384871",
   "metadata": {},
   "outputs": [
    {
     "name": "stdout",
     "output_type": "stream",
     "text": [
      "SELECT \"T_users\".pk, \"T_users\".name \n",
      "FROM \"T_users\"\n"
     ]
    }
   ],
   "source": [
    "print(select(obj_users))"
   ]
  },
  {
   "cell_type": "code",
   "execution_count": 33,
   "id": "9e52d994",
   "metadata": {},
   "outputs": [
    {
     "name": "stdout",
     "output_type": "stream",
     "text": [
      "2021-07-05 17:08:28,438 INFO sqlalchemy.engine.Engine SELECT \"T_users\".pk, \"T_users\".name \n",
      "FROM \"T_users\"\n",
      "2021-07-05 17:08:28,439 INFO sqlalchemy.engine.Engine [generated in 0.00095s] ()\n"
     ]
    }
   ],
   "source": [
    "cur = con.execute(select(obj_users))"
   ]
  },
  {
   "cell_type": "code",
   "execution_count": 34,
   "id": "54025209",
   "metadata": {},
   "outputs": [
    {
     "data": {
      "text/plain": [
       "[(1, 'A')]"
      ]
     },
     "execution_count": 34,
     "metadata": {},
     "output_type": "execute_result"
    }
   ],
   "source": [
    "cur.fetchall()"
   ]
  },
  {
   "cell_type": "code",
   "execution_count": null,
   "id": "5d7c92d9",
   "metadata": {},
   "outputs": [],
   "source": [
    "con.execute()"
   ]
  }
 ],
 "metadata": {
  "kernelspec": {
   "display_name": "Python 3",
   "language": "python",
   "name": "python3"
  },
  "language_info": {
   "codemirror_mode": {
    "name": "ipython",
    "version": 3
   },
   "file_extension": ".py",
   "mimetype": "text/x-python",
   "name": "python",
   "nbconvert_exporter": "python",
   "pygments_lexer": "ipython3",
   "version": "3.8.8"
  }
 },
 "nbformat": 4,
 "nbformat_minor": 5
}
